{
 "cells": [
  {
   "cell_type": "markdown",
   "metadata": {
    "colab_type": "text",
    "id": "view-in-github"
   },
   "source": [
    "<a href=\"https://colab.research.google.com/github/lorenlugosch/transducer-tutorial/blob/main/transducer_tutorial_example.ipynb\" target=\"_parent\"><img src=\"https://colab.research.google.com/assets/colab-badge.svg\" alt=\"Open In Colab\"/></a>"
   ]
  },
  {
   "cell_type": "markdown",
   "metadata": {
    "id": "BbwgR5UdNkkm"
   },
   "source": [
    "# Transducer implementation in PyTorch\n",
    "\n",
    "*by Loren Lugosch*\n"
   ]
  },
  {
   "cell_type": "markdown",
   "metadata": {
    "id": "yBlJNKsjTtaZ"
   },
   "source": [
    "\n",
    "In this notebook, we will implement a Transducer sequence-to-sequence model for inserting missing vowels into a sentence (\"Hll, Wrld\" --> \"Hello, World\")."
   ]
  },
  {
   "cell_type": "code",
   "execution_count": 1,
   "metadata": {
    "colab": {
     "base_uri": "https://localhost:8080/"
    },
    "id": "Q-iHU02C7fAj",
    "outputId": "6ce0dae6-5036-4fb4-fe33-45aceec263a6"
   },
   "outputs": [
    {
     "name": "stdout",
     "output_type": "stream",
     "text": [
      "Requirement already satisfied: unidecode in /home/ubuntu/miniconda3/envs/transducer_fix/lib/python3.9/site-packages (1.2.0)\n",
      "--2024-02-10 15:18:35--  https://raw.githubusercontent.com/lorenlugosch/infer_missing_vowels/master/data/train/war_and_peace.txt\n",
      "Resolving raw.githubusercontent.com (raw.githubusercontent.com)... 185.199.109.133, 185.199.108.133, 185.199.111.133, ...\n",
      "Connecting to raw.githubusercontent.com (raw.githubusercontent.com)|185.199.109.133|:443... connected.\n",
      "HTTP request sent, awaiting response... 200 OK\n",
      "Length: 3196229 (3.0M) [text/plain]\n",
      "Saving to: ‘war_and_peace.txt.5’\n",
      "\n",
      "war_and_peace.txt.5 100%[===================>]   3.05M  --.-KB/s    in 0.07s   \n",
      "\n",
      "2024-02-10 15:18:35 (45.4 MB/s) - ‘war_and_peace.txt.5’ saved [3196229/3196229]\n",
      "\n",
      "/home/ubuntu/transducer_fix\n"
     ]
    }
   ],
   "source": [
    "import torch\n",
    "import string\n",
    "import numpy as np\n",
    "import itertools\n",
    "from collections import Counter\n",
    "from tqdm import tqdm\n",
    "!pip install unidecode\n",
    "import unidecode\n",
    "\n",
    "# Some training data.\n",
    "# Poor Tolstoy, once again reduced to grist for the neural network mill!\n",
    "!wget https://raw.githubusercontent.com/lorenlugosch/infer_missing_vowels/master/data/train/war_and_peace.txt\n",
    "!pwd\n"
   ]
  },
  {
   "cell_type": "markdown",
   "metadata": {
    "id": "CTfRgwxmjv1B"
   },
   "source": [
    "# Building blocks\n",
    "\n",
    "First, we will define the encoder, predictor, and joiner using standard neural nets.\n",
    "\n",
    "<img src=\"https://lorenlugosch.github.io/images/transducer/transducer-model.png\" width=\"25%\">"
   ]
  },
  {
   "cell_type": "code",
   "execution_count": 2,
   "metadata": {
    "id": "B7mLFyUG7kJH"
   },
   "outputs": [],
   "source": [
    "NULL_INDEX = 0\n",
    "\n",
    "encoder_dim = 1024\n",
    "predictor_dim = 1024\n",
    "joiner_dim = 1024"
   ]
  },
  {
   "cell_type": "markdown",
   "metadata": {
    "id": "MABMTjrGY4vz"
   },
   "source": [
    "The encoder is any network that can take as input a variable-length sequence: so, RNNs, CNNs, and self-attention/Transformer encoders will all work.\n"
   ]
  },
  {
   "cell_type": "code",
   "execution_count": 3,
   "metadata": {
    "id": "KE7j2T5EY33-"
   },
   "outputs": [],
   "source": [
    "class Encoder(torch.nn.Module):\n",
    "  def __init__(self, num_inputs):\n",
    "    super(Encoder, self).__init__()\n",
    "    self.embed = torch.nn.Embedding(num_inputs, encoder_dim)\n",
    "    self.rnn = torch.nn.GRU(input_size=encoder_dim, hidden_size=encoder_dim, num_layers=3, batch_first=True, bidirectional=True, dropout=0.1)\n",
    "    self.linear = torch.nn.Linear(encoder_dim*2, joiner_dim)\n",
    "\n",
    "  def forward(self, x):\n",
    "    out = x\n",
    "    out = self.embed(out)\n",
    "    out = self.rnn(out)[0]\n",
    "    out = self.linear(out)\n",
    "    return out"
   ]
  },
  {
   "cell_type": "markdown",
   "metadata": {
    "id": "BRknN6QRY9-g"
   },
   "source": [
    "The predictor is any _causal_ network (= can't look at the future): in other words, unidirectional RNNs, causal convolutions, or masked self-attention. "
   ]
  },
  {
   "cell_type": "code",
   "execution_count": 4,
   "metadata": {
    "id": "hPARF5LmY7-r"
   },
   "outputs": [],
   "source": [
    "class Predictor(torch.nn.Module):\n",
    "  def __init__(self, num_outputs):\n",
    "    super(Predictor, self).__init__()\n",
    "    self.embed = torch.nn.Embedding(num_outputs, predictor_dim)\n",
    "    self.rnn = torch.nn.GRUCell(input_size=predictor_dim, hidden_size=predictor_dim)\n",
    "    self.linear = torch.nn.Linear(predictor_dim, joiner_dim)\n",
    "    \n",
    "    self.initial_state = torch.nn.Parameter(torch.randn(predictor_dim))\n",
    "    self.start_symbol = NULL_INDEX # In the original paper, a vector of 0s is used; just using the null index instead is easier when using an Embedding layer.\n",
    "\n",
    "  def forward_one_step(self, input, previous_state):\n",
    "    embedding = self.embed(input)\n",
    "    state = self.rnn.forward(embedding, previous_state)\n",
    "    out = self.linear(state)\n",
    "    return out, state\n",
    "\n",
    "  def forward(self, y):\n",
    "    batch_size = y.shape[0]\n",
    "    U = y.shape[1]\n",
    "    outs = []\n",
    "    state = torch.stack([self.initial_state] * batch_size).to(y.device)\n",
    "    for u in range(U+1): # need U+1 to get null output for final timestep \n",
    "      if u == 0:\n",
    "        decoder_input = torch.tensor([self.start_symbol] * batch_size, device=y.device)\n",
    "      else:\n",
    "        decoder_input = y[:,u-1]\n",
    "      out, state = self.forward_one_step(decoder_input, state)\n",
    "      outs.append(out)\n",
    "    out = torch.stack(outs, dim=1)\n",
    "    return out"
   ]
  },
  {
   "cell_type": "markdown",
   "metadata": {
    "id": "ZHPZ3PATZEAW"
   },
   "source": [
    "The joiner is a feedforward network/MLP with one hidden layer applied independently to each $(t,u)$ index.\n",
    "\n",
    "(The linear part of the hidden layer is contained in the encoder and predictor, so we just do the nonlinearity here and then the output layer.)"
   ]
  },
  {
   "cell_type": "code",
   "execution_count": 5,
   "metadata": {
    "id": "Vlzca1orZDLa"
   },
   "outputs": [],
   "source": [
    "class Joiner(torch.nn.Module):\n",
    "  def __init__(self, num_outputs):\n",
    "    super(Joiner, self).__init__()\n",
    "    self.linear = torch.nn.Linear(joiner_dim, num_outputs)\n",
    "\n",
    "  def forward(self, encoder_out, predictor_out):\n",
    "    out = encoder_out + predictor_out\n",
    "    out = torch.nn.functional.relu(out)\n",
    "    out = self.linear(out)\n",
    "    return out"
   ]
  },
  {
   "cell_type": "markdown",
   "metadata": {
    "id": "a_-INbhSTApv"
   },
   "source": [
    "# Transducer model + loss function\n",
    "\n",
    "Using the encoder, predictor, and joiner, we will implement the Transducer model and its loss function.\n",
    "\n",
    "<img src=\"https://lorenlugosch.github.io/images/transducer/forward-messages.png\" width=\"25%\">"
   ]
  },
  {
   "cell_type": "markdown",
   "metadata": {
    "id": "bdcKwA_lkzxJ"
   },
   "source": [
    "We can use a simple PyTorch implementation of the loss function, relying on automatic differentiation to give us gradients."
   ]
  },
  {
   "cell_type": "code",
   "execution_count": 6,
   "metadata": {
    "id": "sYSagKi-gHM4"
   },
   "outputs": [],
   "source": [
    "class Transducer(torch.nn.Module):\n",
    "  def __init__(self, num_inputs, num_outputs):\n",
    "    super(Transducer, self).__init__()\n",
    "    self.encoder = Encoder(num_inputs)\n",
    "    self.predictor = Predictor(num_outputs)\n",
    "    self.joiner = Joiner(num_outputs)\n",
    "\n",
    "    if torch.cuda.is_available(): self.device = \"cuda:0\"\n",
    "    else: self.device = \"cpu\"\n",
    "    self.to(self.device)\n",
    "\n",
    "  def compute_forward_prob(self, joiner_out, T, U, y):\n",
    "    \"\"\"\n",
    "    joiner_out: tensor of shape (B, T_max, U_max+1, #labels)\n",
    "    T: list of input lengths\n",
    "    U: list of output lengths \n",
    "    y: label tensor (B, U_max+1)\n",
    "    \"\"\"\n",
    "    B = joiner_out.shape[0]\n",
    "    T_max = joiner_out.shape[1]\n",
    "    U_max = joiner_out.shape[2] - 1\n",
    "    log_alpha = torch.zeros(B, T_max, U_max+1, device=model.device)\n",
    "    for t in range(T_max):\n",
    "      for u in range(U_max+1):\n",
    "          if u == 0:\n",
    "            if t == 0:\n",
    "              log_alpha[:, t, u] = 0.\n",
    "\n",
    "            else: #t > 0\n",
    "              log_alpha[:, t, u] = log_alpha[:, t-1, u] + joiner_out[:, t-1, 0, NULL_INDEX] \n",
    "                  \n",
    "          else: #u > 0\n",
    "            if t == 0:\n",
    "              log_alpha[:, t, u] = log_alpha[:, t,u-1] + torch.gather(joiner_out[:, t, u-1], dim=1, index=y[:,u-1].view(-1,1) ).reshape(-1)\n",
    "            \n",
    "            else: #t > 0\n",
    "              log_alpha[:, t, u] = torch.logsumexp(torch.stack([\n",
    "                  log_alpha[:, t-1, u] + joiner_out[:, t-1, u, NULL_INDEX],\n",
    "                  log_alpha[:, t, u-1] + torch.gather(joiner_out[:, t, u-1], dim=1, index=y[:,u-1].view(-1,1) ).reshape(-1)\n",
    "              ]), dim=0)\n",
    "    \n",
    "    log_probs = []\n",
    "    for b in range(B):\n",
    "      log_prob = log_alpha[b, T[b]-1, U[b]] + joiner_out[b, T[b]-1, U[b], NULL_INDEX]\n",
    "      log_probs.append(log_prob)\n",
    "    log_probs = torch.stack(log_probs) \n",
    "    return log_probs\n",
    "\n",
    "  def compute_loss(self, x, y, T, U):\n",
    "    encoder_out = self.encoder.forward(x)\n",
    "    predictor_out = self.predictor.forward(y)\n",
    "    joiner_out = self.joiner.forward(encoder_out.unsqueeze(2), predictor_out.unsqueeze(1)).log_softmax(3)\n",
    "    loss = -self.compute_forward_prob(joiner_out, T, U, y).mean()\n",
    "    return loss"
   ]
  },
  {
   "cell_type": "markdown",
   "metadata": {
    "id": "IK0c2S2xaARd"
   },
   "source": [
    "Let's first verify that the forward algorithm actually correctly computes the sum (in log space, the [logsumexp](https://lorenlugosch.github.io/posts/2020/06/logsumexp/)) of all possible alignments, using a short input/output pair for which computing all possible alignments is feasible.\n",
    "\n",
    "<img src=\"https://lorenlugosch.github.io/images/transducer/cat-align-1.png\" width=\"25%\">"
   ]
  },
  {
   "cell_type": "code",
   "execution_count": 7,
   "metadata": {
    "id": "RWtkoXH6U8Pm"
   },
   "outputs": [],
   "source": [
    "def compute_single_alignment_prob(self, encoder_out, predictor_out, T, U, z, y):\n",
    "    \"\"\"\n",
    "    Computes the probability of one alignment, z.\n",
    "    \"\"\"\n",
    "    t = 0; u = 0\n",
    "    t_u_indices = []\n",
    "    y_expanded = []\n",
    "    for step in z:\n",
    "      t_u_indices.append((t,u))\n",
    "      if step == 0: # right (null)\n",
    "        y_expanded.append(NULL_INDEX)\n",
    "        t += 1\n",
    "      if step == 1: # down (label)\n",
    "        y_expanded.append(y[u])\n",
    "        u += 1\n",
    "    t_u_indices.append((T-1,U))\n",
    "    y_expanded.append(NULL_INDEX)\n",
    "\n",
    "    t_indices = [t for (t,u) in t_u_indices]\n",
    "    u_indices = [u for (t,u) in t_u_indices]\n",
    "    encoder_out_expanded = encoder_out[t_indices]\n",
    "    predictor_out_expanded = predictor_out[u_indices]\n",
    "    joiner_out = self.joiner.forward(encoder_out_expanded, predictor_out_expanded).log_softmax(1)\n",
    "    logprob = -torch.nn.functional.nll_loss(input=joiner_out, target=torch.tensor(y_expanded).long().to(self.device), reduction=\"sum\")\n",
    "    return logprob\n",
    "\n",
    "Transducer.compute_single_alignment_prob = compute_single_alignment_prob"
   ]
  },
  {
   "cell_type": "code",
   "execution_count": 8,
   "metadata": {
    "colab": {
     "base_uri": "https://localhost:8080/"
    },
    "id": "e8xzM0dZfea9",
    "outputId": "241648b8-5484-4220-d6a5-469bb05f5253"
   },
   "outputs": [
    {
     "name": "stdout",
     "output_type": "stream",
     "text": [
      "Loss computed by enumerating all possible alignments:  tensor(21.8215)\n",
      "Loss computed using the forward algorithm:  tensor([21.8215], device='cuda:0', grad_fn=<NegBackward0>)\n"
     ]
    }
   ],
   "source": [
    "# Generate example inputs/outputs\n",
    "num_outputs = len(string.ascii_uppercase) + 1 # [null, A, B, ... Z]\n",
    "model = Transducer(1, num_outputs)\n",
    "y_letters = \"CAT\"\n",
    "y = torch.tensor([string.ascii_uppercase.index(l) + 1 for l in y_letters]).unsqueeze(0).to(model.device)\n",
    "T = torch.tensor([4]); U = torch.tensor([len(y_letters)]); B = 1\n",
    "\n",
    "encoder_out = torch.randn(B, T, joiner_dim).to(model.device)\n",
    "predictor_out = torch.randn(B, U+1, joiner_dim).to(model.device)\n",
    "joiner_out = model.joiner.forward(encoder_out.unsqueeze(2), predictor_out.unsqueeze(1)).log_softmax(3)\n",
    "\n",
    "#######################################################\n",
    "# Compute loss by enumerating all possible alignments #\n",
    "#######################################################\n",
    "all_permutations = list(itertools.permutations([0]*(T-1) + [1]*U))\n",
    "all_distinct_permutations = list(Counter(all_permutations).keys())\n",
    "alignment_probs = []\n",
    "for z in all_distinct_permutations:\n",
    "  alignment_prob = model.compute_single_alignment_prob(encoder_out[0], predictor_out[0], T.item(), U.item(), z, y[0])\n",
    "  alignment_probs.append(alignment_prob)\n",
    "loss_enumerate = -torch.tensor(alignment_probs).logsumexp(0)\n",
    "\n",
    "#######################################################\n",
    "# Compute loss using the forward algorithm            #\n",
    "#######################################################\n",
    "loss_forward = -model.compute_forward_prob(joiner_out, T, U, y)\n",
    "\n",
    "print(\"Loss computed by enumerating all possible alignments: \", loss_enumerate)\n",
    "print(\"Loss computed using the forward algorithm: \", loss_forward)"
   ]
  },
  {
   "cell_type": "markdown",
   "metadata": {
    "id": "WSBAwQONf3z9"
   },
   "source": [
    "Now let's add the greedy search algorithm for predicting an output sequence.\n",
    "\n",
    "(Note that I've assumed we're using RNNs for the predictor here. You would have to modify this code a bit if you want to use convolutions/self-attention instead.) \n",
    "<br/><br/>\n",
    "<img src=\"https://lorenlugosch.github.io/images/transducer/greedy-search.png\" width=\"50%\">"
   ]
  },
  {
   "cell_type": "code",
   "execution_count": 9,
   "metadata": {
    "id": "V0xeyb7Jf18_"
   },
   "outputs": [],
   "source": [
    "def greedy_search(self, x, T):\n",
    "  y_batch = []\n",
    "  B = len(x)\n",
    "  encoder_out = self.encoder.forward(x)\n",
    "  U_max = 200\n",
    "  for b in range(B):\n",
    "    t = 0; u = 0; y = [self.predictor.start_symbol]; predictor_state = self.predictor.initial_state.unsqueeze(0)\n",
    "    while t < T[b] and u < U_max:\n",
    "      predictor_input = torch.tensor([ y[-1] ], device = x.device)\n",
    "      g_u, predictor_state = self.predictor.forward_one_step(predictor_input, predictor_state)\n",
    "      f_t = encoder_out[b, t]\n",
    "      h_t_u = self.joiner.forward(f_t, g_u)\n",
    "      argmax = h_t_u.max(-1)[1].item()\n",
    "      if argmax == NULL_INDEX:\n",
    "        t += 1\n",
    "      else: # argmax == a label\n",
    "        u += 1\n",
    "        y.append(argmax)\n",
    "    y_batch.append(y[1:]) # remove start symbol\n",
    "  return y_batch\n",
    "\n",
    "Transducer.greedy_search = greedy_search"
   ]
  },
  {
   "cell_type": "markdown",
   "metadata": {
    "id": "82XU9-gr3goI"
   },
   "source": [
    "The code above will work, but training will be very slow because the Transducer loss is written in pure Python. You can use the fast implementation from SpeechBrain instead by running the block below."
   ]
  },
  {
   "cell_type": "code",
   "execution_count": 10,
   "metadata": {
    "colab": {
     "base_uri": "https://localhost:8080/"
    },
    "id": "qhUQMJ-23f2y",
    "outputId": "85b406cd-8cfd-4c8c-817b-0cb851531f56"
   },
   "outputs": [
    {
     "name": "stdout",
     "output_type": "stream",
     "text": [
      "Requirement already satisfied: speechbrain in /home/ubuntu/miniconda3/envs/transducer_fix/lib/python3.9/site-packages (0.5.16)\n",
      "Requirement already satisfied: hyperpyyaml in /home/ubuntu/miniconda3/envs/transducer_fix/lib/python3.9/site-packages (from speechbrain) (1.2.2)\n",
      "Requirement already satisfied: joblib in /home/ubuntu/miniconda3/envs/transducer_fix/lib/python3.9/site-packages (from speechbrain) (1.3.2)\n",
      "Requirement already satisfied: numpy in /home/ubuntu/miniconda3/envs/transducer_fix/lib/python3.9/site-packages (from speechbrain) (1.23.1)\n",
      "Requirement already satisfied: packaging in /home/ubuntu/miniconda3/envs/transducer_fix/lib/python3.9/site-packages (from speechbrain) (23.1)\n",
      "Requirement already satisfied: scipy in /home/ubuntu/miniconda3/envs/transducer_fix/lib/python3.9/site-packages (from speechbrain) (1.12.0)\n",
      "Requirement already satisfied: sentencepiece in /home/ubuntu/miniconda3/envs/transducer_fix/lib/python3.9/site-packages (from speechbrain) (0.1.99)\n",
      "Requirement already satisfied: torch>=1.9 in /home/ubuntu/miniconda3/envs/transducer_fix/lib/python3.9/site-packages (from speechbrain) (2.2.0)\n",
      "Requirement already satisfied: torchaudio in /home/ubuntu/miniconda3/envs/transducer_fix/lib/python3.9/site-packages (from speechbrain) (2.2.0)\n",
      "Requirement already satisfied: tqdm in /home/ubuntu/miniconda3/envs/transducer_fix/lib/python3.9/site-packages (from speechbrain) (4.66.1)\n",
      "Requirement already satisfied: huggingface-hub in /home/ubuntu/miniconda3/envs/transducer_fix/lib/python3.9/site-packages (from speechbrain) (0.20.3)\n",
      "Requirement already satisfied: filelock in /home/ubuntu/miniconda3/envs/transducer_fix/lib/python3.9/site-packages (from torch>=1.9->speechbrain) (3.13.1)\n",
      "Requirement already satisfied: typing-extensions>=4.8.0 in /home/ubuntu/miniconda3/envs/transducer_fix/lib/python3.9/site-packages (from torch>=1.9->speechbrain) (4.9.0)\n",
      "Requirement already satisfied: sympy in /home/ubuntu/miniconda3/envs/transducer_fix/lib/python3.9/site-packages (from torch>=1.9->speechbrain) (1.12)\n",
      "Requirement already satisfied: networkx in /home/ubuntu/miniconda3/envs/transducer_fix/lib/python3.9/site-packages (from torch>=1.9->speechbrain) (3.1)\n",
      "Requirement already satisfied: jinja2 in /home/ubuntu/miniconda3/envs/transducer_fix/lib/python3.9/site-packages (from torch>=1.9->speechbrain) (3.1.3)\n",
      "Requirement already satisfied: fsspec in /home/ubuntu/miniconda3/envs/transducer_fix/lib/python3.9/site-packages (from torch>=1.9->speechbrain) (2024.2.0)\n",
      "Requirement already satisfied: requests in /home/ubuntu/miniconda3/envs/transducer_fix/lib/python3.9/site-packages (from huggingface-hub->speechbrain) (2.31.0)\n",
      "Requirement already satisfied: pyyaml>=5.1 in /home/ubuntu/miniconda3/envs/transducer_fix/lib/python3.9/site-packages (from huggingface-hub->speechbrain) (6.0.1)\n",
      "Requirement already satisfied: ruamel.yaml>=0.17.28 in /home/ubuntu/miniconda3/envs/transducer_fix/lib/python3.9/site-packages (from hyperpyyaml->speechbrain) (0.18.6)\n",
      "Requirement already satisfied: ruamel.yaml.clib>=0.2.7 in /home/ubuntu/miniconda3/envs/transducer_fix/lib/python3.9/site-packages (from ruamel.yaml>=0.17.28->hyperpyyaml->speechbrain) (0.2.8)\n",
      "Requirement already satisfied: MarkupSafe>=2.0 in /home/ubuntu/miniconda3/envs/transducer_fix/lib/python3.9/site-packages (from jinja2->torch>=1.9->speechbrain) (2.1.3)\n",
      "Requirement already satisfied: charset-normalizer<4,>=2 in /home/ubuntu/miniconda3/envs/transducer_fix/lib/python3.9/site-packages (from requests->huggingface-hub->speechbrain) (2.0.4)\n",
      "Requirement already satisfied: idna<4,>=2.5 in /home/ubuntu/miniconda3/envs/transducer_fix/lib/python3.9/site-packages (from requests->huggingface-hub->speechbrain) (3.4)\n",
      "Requirement already satisfied: urllib3<3,>=1.21.1 in /home/ubuntu/miniconda3/envs/transducer_fix/lib/python3.9/site-packages (from requests->huggingface-hub->speechbrain) (2.1.0)\n",
      "Requirement already satisfied: certifi>=2017.4.17 in /home/ubuntu/miniconda3/envs/transducer_fix/lib/python3.9/site-packages (from requests->huggingface-hub->speechbrain) (2024.2.2)\n",
      "Requirement already satisfied: mpmath>=0.19 in /home/ubuntu/miniconda3/envs/transducer_fix/lib/python3.9/site-packages (from sympy->torch>=1.9->speechbrain) (1.3.0)\n"
     ]
    }
   ],
   "source": [
    "!pip install speechbrain\n",
    "# you may also need numba if it is not installed on your system, you can install it with conda:\n",
    "#!conda install -y numba cudatoolkit=9.0\n",
    "# you may also have to downgrade numpy in order to account for numba requirements:\n",
    "#!conda install -y numpy=1.21.1\n",
    "\n",
    "from speechbrain.nnet.loss.transducer_loss import TransducerLoss\n",
    "transducer_loss = TransducerLoss(0)\n",
    "\n",
    "def compute_loss(self, x, y, T, U):\n",
    "    encoder_out = self.encoder.forward(x)\n",
    "    predictor_out = self.predictor.forward(y)\n",
    "    joiner_out = self.joiner.forward(encoder_out.unsqueeze(2), predictor_out.unsqueeze(1)).log_softmax(3)\n",
    "    #loss = -self.compute_forward_prob(joiner_out, T, U, y).mean()\n",
    "    T = T.to(joiner_out.device)\n",
    "    U = U.to(joiner_out.device)\n",
    "    loss = transducer_loss(joiner_out, y, T, U) #, blank_index=NULL_INDEX, reduction=\"mean\")\n",
    "    return loss\n",
    "\n",
    "Transducer.compute_loss = compute_loss"
   ]
  },
  {
   "cell_type": "markdown",
   "metadata": {
    "id": "Ff9raB0jVGzN"
   },
   "source": [
    "# Some utilities\n",
    "\n",
    "Here we will add a bit of boilerplate code for training and loading data."
   ]
  },
  {
   "cell_type": "code",
   "execution_count": 11,
   "metadata": {
    "colab": {
     "base_uri": "https://localhost:8080/"
    },
    "id": "5b17OQm4WdVy",
    "outputId": "25498f94-9543-40f8-dd1e-fbfd7857debf"
   },
   "outputs": [
    {
     "data": {
      "text/plain": [
       "('\"Wll, Prnc, s Gn nd Lcc r nw jst fmly stts f th',\n",
       " '\"Well, Prince, so Genoa and Lucca are now just family estates of the')"
      ]
     },
     "execution_count": 11,
     "metadata": {},
     "output_type": "execute_result"
    }
   ],
   "source": [
    "class TextDataset(torch.utils.data.Dataset):\n",
    "  def __init__(self, lines, batch_size):\n",
    "    lines = list(filter((\"\\n\").__ne__, lines))\n",
    "\n",
    "    self.lines = lines # list of strings\n",
    "    collate = Collate()\n",
    "    self.loader = torch.utils.data.DataLoader(self, batch_size=batch_size, num_workers=0, shuffle=True, collate_fn=collate)\n",
    "\n",
    "  def __len__(self):\n",
    "    return len(self.lines)\n",
    "\n",
    "  def __getitem__(self, idx):\n",
    "    line = self.lines[idx].replace(\"\\n\", \"\")\n",
    "    line = unidecode.unidecode(line) # remove special characters\n",
    "    x = \"\".join(c for c in line if c not in \"AEIOUaeiou\") # remove vowels from input\n",
    "    y = line\n",
    "    return (x,y)\n",
    "\n",
    "def encode_string(s):\n",
    "  for c in s:\n",
    "    if c not in string.printable:\n",
    "      print(s)\n",
    "  return [string.printable.index(c) + 1 for c in s]\n",
    "\n",
    "def decode_labels(l):\n",
    "  return \"\".join([string.printable[c - 1] for c in l])\n",
    "\n",
    "class Collate:\n",
    "  def __call__(self, batch):\n",
    "    \"\"\"\n",
    "    batch: list of tuples (input string, output string)\n",
    "    Returns a minibatch of strings, encoded as labels and padded to have the same length.\n",
    "    \"\"\"\n",
    "    x = []; y = []\n",
    "    batch_size = len(batch)\n",
    "    for index in range(batch_size):\n",
    "      x_,y_ = batch[index]\n",
    "      x.append(encode_string(x_))\n",
    "      y.append(encode_string(y_))\n",
    "\n",
    "    # pad all sequences to have same length\n",
    "    T = [len(x_) for x_ in x]\n",
    "    U = [len(y_) for y_ in y]\n",
    "    T_max = max(T)\n",
    "    U_max = max(U)\n",
    "    for index in range(batch_size):\n",
    "      x[index] += [NULL_INDEX] * (T_max - len(x[index]))\n",
    "      x[index] = torch.tensor(x[index])\n",
    "      y[index] += [NULL_INDEX] * (U_max - len(y[index]))\n",
    "      y[index] = torch.tensor(y[index])\n",
    "\n",
    "    # stack into single tensor\n",
    "    x = torch.stack(x)\n",
    "    y = torch.stack(y)\n",
    "    T = torch.tensor(T)\n",
    "    U = torch.tensor(U)\n",
    "\n",
    "    return (x,y,T,U)\n",
    "\n",
    "with open(\"war_and_peace.txt\", \"r\") as f:\n",
    "  lines = f.readlines()\n",
    "\n",
    "end = round(0.9 * len(lines))\n",
    "train_lines = lines[:end]\n",
    "test_lines = lines[end:]\n",
    "train_set = TextDataset(train_lines, batch_size=64) #8)\n",
    "test_set = TextDataset(test_lines, batch_size=64) #8)\n",
    "train_set.__getitem__(0)"
   ]
  },
  {
   "cell_type": "code",
   "execution_count": 12,
   "metadata": {
    "id": "gaZEQYzfFEQ0"
   },
   "outputs": [],
   "source": [
    "class Trainer:\n",
    "  def __init__(self, model, lr):\n",
    "    self.model = model\n",
    "    self.lr = lr\n",
    "    self.optimizer = torch.optim.Adam(model.parameters(), lr=self.lr)\n",
    "  \n",
    "  def train(self, dataset, print_interval = 20):\n",
    "    train_loss = 0\n",
    "    num_samples = 0\n",
    "    self.model.train()\n",
    "    pbar = tqdm(dataset.loader)\n",
    "    for idx, batch in enumerate(pbar):\n",
    "      x,y,T,U = batch\n",
    "      x = x.to(self.model.device); y = y.to(self.model.device)\n",
    "      batch_size = len(x)\n",
    "      num_samples += batch_size\n",
    "      loss = self.model.compute_loss(x,y,T,U)\n",
    "      self.optimizer.zero_grad()\n",
    "      pbar.set_description(\"%.2f\" % loss.item())\n",
    "      loss.backward()\n",
    "      self.optimizer.step()\n",
    "      train_loss += loss.item() * batch_size\n",
    "      if idx % print_interval == 0:\n",
    "        self.model.eval()\n",
    "        guesses = self.model.greedy_search(x,T)\n",
    "        self.model.train()\n",
    "        print(\"\\n\")\n",
    "        for b in range(2):\n",
    "          print(\"input:\", decode_labels(x[b,:T[b]]))\n",
    "          print(\"guess:\", decode_labels(guesses[b]))\n",
    "          print(\"truth:\", decode_labels(y[b,:U[b]]))\n",
    "          print(\"\")\n",
    "    train_loss /= num_samples\n",
    "    return train_loss\n",
    "\n",
    "  def test(self, dataset, print_interval=1):\n",
    "    test_loss = 0\n",
    "    num_samples = 0\n",
    "    self.model.eval()\n",
    "    pbar = tqdm(dataset.loader)\n",
    "    with torch.no_grad():\n",
    "        for idx, batch in enumerate(pbar):\n",
    "          x,y,T,U = batch\n",
    "          x = x.to(self.model.device); y = y.to(self.model.device)\n",
    "          batch_size = len(x)\n",
    "          num_samples += batch_size\n",
    "          loss = self.model.compute_loss(x,y,T,U)\n",
    "          pbar.set_description(\"%.2f\" % loss.item())\n",
    "          test_loss += loss.item() * batch_size\n",
    "          if idx % print_interval == 0:\n",
    "            print(\"\\n\")\n",
    "            print(\"input:\", decode_labels(x[0,:T[0]]))\n",
    "            print(\"guess:\", decode_labels(self.model.greedy_search(x,T)[0]))\n",
    "            print(\"truth:\", decode_labels(y[0,:U[0]]))\n",
    "            print(\"\")\n",
    "    test_loss /= num_samples\n",
    "    return test_loss\n",
    "    "
   ]
  },
  {
   "cell_type": "markdown",
   "metadata": {
    "id": "q4PupgBKWe6p"
   },
   "source": [
    "# Training the model\n",
    "\n",
    "Now we will train a model. This will generate some output sequences every 20 batches."
   ]
  },
  {
   "cell_type": "code",
   "execution_count": 13,
   "metadata": {
    "colab": {
     "base_uri": "https://localhost:8080/"
    },
    "id": "1TSrbH9xGPEC",
    "outputId": "102f780d-145c-481f-d667-1cd2b76d6111"
   },
   "outputs": [
    {
     "name": "stderr",
     "output_type": "stream",
     "text": [
      "9.62:   0%|                                     | 1/709 [00:02<26:40,  2.26s/it]"
     ]
    },
    {
     "name": "stdout",
     "output_type": "stream",
     "text": [
      "\n",
      "\n",
      "input: g wy.\n",
      "guess: \n",
      "truth: go away.\n",
      "\n",
      "input: \" knw frm rlbl srcs tht th Dwgr mprss s tkng  kn\n",
      "guess: \n",
      "truth: \"I know from reliable sources that the Dowager Empress is taking a keen\n",
      "\n"
     ]
    },
    {
     "name": "stderr",
     "output_type": "stream",
     "text": [
      "3.46:   3%|█                                   | 21/709 [00:22<22:19,  1.95s/it]"
     ]
    },
    {
     "name": "stdout",
     "output_type": "stream",
     "text": [
      "\n",
      "\n",
      "input: t f ths pstn; tht hr ws th Tln tht wld lft hm frm\n",
      "guess: \n",
      "truth: out of this position; that here was the Toulon that would lift him from\n",
      "\n",
      "input: rthr rnd shldrs nd glncd t Nvsltsv wh ws nr hm, s\n",
      "guess: \n",
      "truth: rather round shoulders and glanced at Novosiltsev who was near him, as\n",
      "\n"
     ]
    },
    {
     "name": "stderr",
     "output_type": "stream",
     "text": [
      "1.81:   6%|██                                  | 41/709 [00:47<34:44,  3.12s/it]"
     ]
    },
    {
     "name": "stdout",
     "output_type": "stream",
     "text": [
      "\n",
      "\n",
      "input: thm tht sh mght pry fr thm. Bt nthr cld sh dbt th\n",
      "guess: the th sh mh pprey fof the. to nother cold sh dad th\n",
      "truth: them that she might pray for them. But neither could she doubt the\n",
      "\n",
      "input: fr dng. H mgnd ll srts f pssbl cntngncs, jst lk\n",
      "guess: fofre dad momand lol sert fof ps conting, ast lol\n",
      "truth: for doing. He imagined all sorts of possible contingencies, just like\n",
      "\n"
     ]
    },
    {
     "name": "stderr",
     "output_type": "stream",
     "text": [
      "1.18:   9%|███                                 | 61/709 [01:12<33:48,  3.13s/it]"
     ]
    },
    {
     "name": "stdout",
     "output_type": "stream",
     "text": [
      "\n",
      "\n",
      "input: mprr, wld stbbrnly nsst n th crrctnss r flsty f sm\n",
      "guess: mere, wald steberinly nost no th corctins ree folsty of some\n",
      "truth: Emperor, would stubbornly insist on the correctness or falsity of some\n",
      "\n",
      "input: Prr hd mt n Ptrsbrg scty. n th Prsdnt's chr st \n",
      "guess: Pere had mat no Pitersbrig sicy. no th Pirsedint's cher st \n",
      "truth: Pierre had met in Petersburg society. In the President's chair sat a\n",
      "\n"
     ]
    },
    {
     "name": "stderr",
     "output_type": "stream",
     "text": [
      "0.83:  11%|████                                | 81/709 [01:36<32:28,  3.10s/it]"
     ]
    },
    {
     "name": "stdout",
     "output_type": "stream",
     "text": [
      "\n",
      "\n",
      "input: shld mk t gd  trgt fr th Frnch, bsds  m frd \n",
      "guess: sholed me to god a terg fer the Frinch, buseds a me fared \n",
      "truth: should make too good a target for the French, besides I am afraid I\n",
      "\n",
      "input: lnchng wth hm nd Brs.\n",
      "guess: lonching with him and Bors.\n",
      "truth: lunching with him and Boris.\n",
      "\n"
     ]
    },
    {
     "name": "stderr",
     "output_type": "stream",
     "text": [
      "0.72:  14%|████▉                              | 101/709 [02:00<30:27,  3.01s/it]"
     ]
    },
    {
     "name": "stdout",
     "output_type": "stream",
     "text": [
      "\n",
      "\n",
      "input: hr trnk hd bn tkn dwn frm ts crt, nd ll th lds wr\n",
      "guess: her trenk had been taken don for ites cort, and lil th lod were\n",
      "truth: her trunk had been taken down from its cart, and all the loads were\n",
      "\n",
      "input: spcl grtty fr hs fthfl srvcs, wll knwng tht t tht\n",
      "guess: spicl garty for his fothifl serices, wil knwing that to that\n",
      "truth: special gratuity for his faithful services, well knowing that at that\n",
      "\n"
     ]
    },
    {
     "name": "stderr",
     "output_type": "stream",
     "text": [
      "0.66:  17%|█████▉                             | 121/709 [02:18<15:06,  1.54s/it]"
     ]
    },
    {
     "name": "stdout",
     "output_type": "stream",
     "text": [
      "\n",
      "\n",
      "input: s th nly thng w nd fr, r h s chngng hs pstn.\" (H\n",
      "guess: as the noly thing w and for, rea he as chinging his postion.\" ((H\n",
      "truth: is the only thing we need fear, or he is changing his position.\" (He\n",
      "\n",
      "input: stt f xctmnt s whn sh hd slmmd th dr f hr rm.\n",
      "guess: st of exctemant as when sh had seled the dor of her rom.\n",
      "truth: state of excitement as when she had slammed the door of her room.\n",
      "\n"
     ]
    },
    {
     "name": "stderr",
     "output_type": "stream",
     "text": [
      "0.51:  20%|██████▉                            | 141/709 [02:33<14:35,  1.54s/it]"
     ]
    },
    {
     "name": "stdout",
     "output_type": "stream",
     "text": [
      "\n",
      "\n",
      "input: s, n lks dctn nd wll-brd ppl.' t s fr yr sk \n",
      "guess: see, in lokes deacten ane well-bered peple. to is for your ske a\n",
      "truth: see, one likes education and well-bred people.' It is for your sake I\n",
      "\n",
      "input: Nchls dd nt thnk t th prpr thng t vst hr gn; bt ll\n",
      "guess: Nichal did not think to th preper thing to vist her gon; but al\n",
      "truth: Nicholas did not think it the proper thing to visit her again; but all\n",
      "\n"
     ]
    },
    {
     "name": "stderr",
     "output_type": "stream",
     "text": [
      "0.51:  23%|███████▉                           | 161/709 [02:48<13:35,  1.49s/it]"
     ]
    },
    {
     "name": "stdout",
     "output_type": "stream",
     "text": [
      "\n",
      "\n",
      "input: th prvncs t  dstnc frm Mscw, lds, nd gntlmn n\n",
      "guess: th pevances it a distance for Mosow, lods, ane gentleman in\n",
      "truth: the provinces at a distance from Moscow, ladies, and gentlemen in\n",
      "\n",
      "input: mnd tht  ws lrdy trd f t ll, nd tht w mst ll d. nc\n",
      "guess: moned that a was alead tered of it al, ane that w most al doo. noce\n",
      "truth: mind that I was already tired of it all, and that we must all die. Once\n",
      "\n"
     ]
    },
    {
     "name": "stderr",
     "output_type": "stream",
     "text": [
      "0.51:  26%|████████▉                          | 181/709 [03:03<12:59,  1.48s/it]"
     ]
    },
    {
     "name": "stdout",
     "output_type": "stream",
     "text": [
      "\n",
      "\n",
      "input: tht h ws t th frnt nd n th pwr f  mn twrd whm h nw\n",
      "guess: that he was it th forint ane in th por of a ma towared whm he now\n",
      "truth: that he was at the front and in the power of a man toward whom he now\n",
      "\n",
      "input: \"Bt hw s t th dctr frm Mscw s nt hr yt?\" sd th\n",
      "guess: \"But how is it th decter from Mosw is not her yet?\" said th\n",
      "truth: \"But how is it the doctor from Moscow is not here yet?\" said the\n",
      "\n"
     ]
    },
    {
     "name": "stderr",
     "output_type": "stream",
     "text": [
      "0.47:  28%|█████████▉                         | 201/709 [03:17<12:20,  1.46s/it]"
     ]
    },
    {
     "name": "stdout",
     "output_type": "stream",
     "text": [
      "\n",
      "\n",
      "input: ntrm Prnc ndrw hrd ld vcs nd  rngng stcct lgh--\n",
      "guess: inter Price und hered lod voces ane a renging stect lagh--\n",
      "truth: anteroom Prince Andrew heard loud voices and a ringing staccato laugh--a\n",
      "\n",
      "input: nnr lbrtry f hs mnd n  prtbl frm s f ntntnlly, s\n",
      "guess: nener liberty of his mined in a peatable from as of intentenlly, as\n",
      "truth: inner laboratory of his mind in a portable form as if intentionally, so\n",
      "\n"
     ]
    },
    {
     "name": "stderr",
     "output_type": "stream",
     "text": [
      "0.41:  31%|██████████▉                        | 221/709 [03:32<12:25,  1.53s/it]"
     ]
    },
    {
     "name": "stdout",
     "output_type": "stream",
     "text": [
      "\n",
      "\n",
      "input: prvt rm nd, cllng hs djtnt, skd fr sm pprs rltng\n",
      "guess: perite room ane, coling his adant, aske for sam apeas relating\n",
      "truth: private room and, calling his adjutant, asked for some papers relating\n",
      "\n",
      "input: th rd t th plc t whch h hd bn snt, h hd gllpd t th\n",
      "guess: th rod to th place it which he had been sent, he had gloped to the\n",
      "truth: the road to the place to which he had been sent, he had galloped to the\n",
      "\n"
     ]
    },
    {
     "name": "stderr",
     "output_type": "stream",
     "text": [
      "0.40:  34%|███████████▉                       | 241/709 [03:47<11:36,  1.49s/it]"
     ]
    },
    {
     "name": "stdout",
     "output_type": "stream",
     "text": [
      "\n",
      "\n",
      "input: Drng th hrs f sltd, sffrng, nd prtl dlrm h spnt\n",
      "guess: Deang th here of siled, sufering, ane peatel delorom he spent\n",
      "truth: During the hours of solitude, suffering, and partial delirium he spent\n",
      "\n",
      "input: fxd n  chsn spt, vgrsly hldng ts tl rct, shnng nd\n",
      "guess: feed in a chesion spet, vigersly holing ites tel recot, shing ane\n",
      "truth: fixed in a chosen spot, vigorously holding its tail erect, shining and\n",
      "\n"
     ]
    },
    {
     "name": "stderr",
     "output_type": "stream",
     "text": [
      "0.40:  37%|████████████▉                      | 261/709 [04:02<10:02,  1.34s/it]"
     ]
    },
    {
     "name": "stdout",
     "output_type": "stream",
     "text": [
      "\n",
      "\n",
      "input: t nc shwd tslf by cntlss sgns. Ths sgns wr: Lrstn's\n",
      "guess: to noce showed itel by countles sige. This sig wer: Lesion's\n",
      "truth: at once showed itself by countless signs. These signs were: Lauriston's\n",
      "\n",
      "input: prtns ccrdng t hm wr cnnctd wth sch cmplctd\n",
      "guess: peatens acoriding to him were conced with suh copliced\n",
      "truth: operations according to him were connected with such complicated\n",
      "\n"
     ]
    },
    {
     "name": "stderr",
     "output_type": "stream",
     "text": [
      "0.35:  40%|█████████████▊                     | 281/709 [04:15<08:16,  1.16s/it]"
     ]
    },
    {
     "name": "stdout",
     "output_type": "stream",
     "text": [
      "\n",
      "\n",
      "input: \"nd ths s grttd--ths s rcgntn fr ths wh hv\n",
      "guess: \"Ane thes is greted--thes is recogantion for thes who have\n",
      "truth: \"And this is gratitude--this is recognition for those who have\n",
      "\n",
      "input: t th plc, hwvr, n ffcl cm rnnng t t mt hm, nd\n",
      "guess: at the pale, hower, in ofical came rining at to meet him, ane\n",
      "truth: to the palace, however, an official came running out to meet him, and\n",
      "\n"
     ]
    },
    {
     "name": "stderr",
     "output_type": "stream",
     "text": [
      "0.30:  42%|██████████████▊                    | 301/709 [04:28<08:03,  1.19s/it]"
     ]
    },
    {
     "name": "stdout",
     "output_type": "stream",
     "text": [
      "\n",
      "\n",
      "input: bng n nfrm mprtd smthng strng nd fntstc t ths\n",
      "guess: being no unifor impored something stering ane fainstic to thes\n",
      "truth: being in uniform imparted something strange and fantastic to these\n",
      "\n",
      "input:  srprs, s h prtndd nt t s d Bsst nd clld Fbvr t\n",
      "guess: sers, so he petened not it is do Bes ane calle Fabover to\n",
      "truth: a surprise, so he pretended not to see de Beausset and called Fabvier to\n",
      "\n"
     ]
    },
    {
     "name": "stderr",
     "output_type": "stream",
     "text": [
      "0.31:  45%|███████████████▊                   | 321/709 [04:41<07:19,  1.13s/it]"
     ]
    },
    {
     "name": "stdout",
     "output_type": "stream",
     "text": [
      "\n",
      "\n",
      "input: Th prsnrs wr plcd n  crtn rdr, ccrdng t th lst\n",
      "guess: The pesoners were pled in a caraten orie, acriding to the last\n",
      "truth: The prisoners were placed in a certain order, according to the list\n",
      "\n",
      "input: t, bt ch tm sh lkd t th prcssn hr ys sght tht\n",
      "guess: it, but ch tem she loked to the perision her eyes siht that\n",
      "truth: it, but each time she looked at the procession her eyes sought that\n",
      "\n"
     ]
    },
    {
     "name": "stderr",
     "output_type": "stream",
     "text": [
      "0.28:  48%|████████████████▊                  | 341/709 [04:54<06:53,  1.12s/it]"
     ]
    },
    {
     "name": "stdout",
     "output_type": "stream",
     "text": [
      "\n",
      "\n",
      "input: xprssn, vdntly hbtl t hm whn cnvrsng wth wmn.\n",
      "guess: exrission, vedently hable to him when conersing with woman.\n",
      "truth: expression, evidently habitual to him when conversing with women.\n",
      "\n",
      "input: pt ths wh dd nt tk n ctv prt n th ffrs f th ldgs\n",
      "guess: put thes wh did not took in acte peat in th afers of th lods\n",
      "truth: put those who did not take an active part in the affairs of the lodges\n",
      "\n"
     ]
    },
    {
     "name": "stderr",
     "output_type": "stream",
     "text": [
      "0.30:  51%|█████████████████▊                 | 361/709 [05:07<06:33,  1.13s/it]"
     ]
    },
    {
     "name": "stdout",
     "output_type": "stream",
     "text": [
      "\n",
      "\n",
      "input: n th hghr cmmnd thr wr tw shrply dfnd prts: Ktzv's\n",
      "guess: In th hige comaned ther were tw shery defened peates: Kutov's\n",
      "truth: In the higher command there were two sharply defined parties: Kutuzov's\n",
      "\n",
      "input: m, Prr.  shll nt frgt yr ntrsts.\"\n",
      "guess: me, Piere. I shel not foret your inters.\"\n",
      "truth: me, Pierre. I shall not forget your interests.\"\n",
      "\n"
     ]
    },
    {
     "name": "stderr",
     "output_type": "stream",
     "text": [
      "0.29:  54%|██████████████████▊                | 381/709 [05:20<06:16,  1.15s/it]"
     ]
    },
    {
     "name": "stdout",
     "output_type": "stream",
     "text": [
      "\n",
      "\n",
      "input: whch cn cnvnc m, dr frnd--lf nd dth r wht cnvnc.\n",
      "guess: which can conce me, dear fried-life ane death are what conce.\n",
      "truth: which can convince me, dear friend--life and death are what convince.\n",
      "\n",
      "input: N, 'll tll y nw. Y knw Sny's my drst frnd. Sch  frnd\n",
      "guess: No, I'l tel you now. You kn Sonys my dear fried. Suc a friened\n",
      "truth: No, I'll tell you now. You know Sonya's my dearest friend. Such a friend\n",
      "\n"
     ]
    },
    {
     "name": "stderr",
     "output_type": "stream",
     "text": [
      "0.33:  57%|███████████████████▊               | 401/709 [05:33<05:45,  1.12s/it]"
     ]
    },
    {
     "name": "stdout",
     "output_type": "stream",
     "text": [
      "\n",
      "\n",
      "input: thrshd hm bcs h hd t gt n s qckly s pssbl. nd ,\"\n",
      "guess: thrished him becase he had to got in is quicly is posible. ane I,\n",
      "truth: thrashed him because he had to get on as quickly as possible. And I,\"\n",
      "\n",
      "input: sm t hv sm gnrlly sy. Thy sd tht ndbtdly wr,\n",
      "guess: sam to have sam generally sa. They said that unedly were,\n",
      "truth: seem to have some generally say. They said that undoubtedly war,\n",
      "\n"
     ]
    },
    {
     "name": "stderr",
     "output_type": "stream",
     "text": [
      "0.26:  59%|████████████████████▊              | 421/709 [05:46<05:44,  1.20s/it]"
     ]
    },
    {
     "name": "stdout",
     "output_type": "stream",
     "text": [
      "\n",
      "\n",
      "input: hwvr, fr h wll lv s gn t tk prt n ths nhppy wr\n",
      "guess: hower, fea he wil love is gan to take peat in thes unhapy were\n",
      "truth: however, for he will leave us again to take part in this unhappy war\n",
      "\n",
      "input: hs nd bck gn, shtng cnfsd nstrctns t th hrryng\n",
      "guess: his ane baco again, shating consed intericons to the hurying\n",
      "truth: house and back again, shouting confused instructions to the hurrying\n",
      "\n"
     ]
    },
    {
     "name": "stderr",
     "output_type": "stream",
     "text": [
      "0.31:  62%|█████████████████████▊             | 441/709 [06:07<15:04,  3.38s/it]"
     ]
    },
    {
     "name": "stdout",
     "output_type": "stream",
     "text": [
      "\n",
      "\n",
      "input: drwng rm s wt.\"\n",
      "guess: dring rom is wit.\"\n",
      "truth: drawing room so wet.\"\n",
      "\n",
      "input: gv n frthr rdrs nd slntly cntnd t wlk n n frnt f th\n",
      "guess: geve in father ories ane silently contened it wal no no front of the\n",
      "truth: gave no further orders and silently continued to walk on in front of the\n",
      "\n"
     ]
    },
    {
     "name": "stderr",
     "output_type": "stream",
     "text": [
      "0.23:  65%|██████████████████████▊            | 461/709 [06:33<14:07,  3.42s/it]"
     ]
    },
    {
     "name": "stdout",
     "output_type": "stream",
     "text": [
      "\n",
      "\n",
      "input: srvng, nd  msndrstndng rs. Th tw cmmndrs wr mch\n",
      "guess: seng, ane a menedersteng rose. The tw comaneders were muh\n",
      "truth: serving, and a misunderstanding arose. The two commanders were much\n",
      "\n",
      "input: hm. Bndrchk's hrs swrvd nd gllpd pst.\n",
      "guess: him. Bondarchk's hore swered ane gloped pas.\n",
      "truth: him. Bondarchuk's horse swerved and galloped past.\n",
      "\n"
     ]
    },
    {
     "name": "stderr",
     "output_type": "stream",
     "text": [
      "0.22:  68%|███████████████████████▋           | 481/709 [06:58<12:06,  3.19s/it]"
     ]
    },
    {
     "name": "stdout",
     "output_type": "stream",
     "text": [
      "\n",
      "\n",
      "input: \"Ys, f t nly wr s!\" sd Prnc ndrw. \"Hwvr, t s tm t\n",
      "guess: \"Yes, if it ony were is! sa Pric nder. \"Hower, it is tem to\n",
      "truth: \"Yes, if it only were so!\" said Prince Andrew. \"However, it is time to\n",
      "\n",
      "input: \" m sd t smthng swt. Rsns, fn ns... tk thm ll!\" h\n",
      "guess: \"I am side to something swee. Rusian, fain nose. took them al!\" he\n",
      "truth: \"I am used to something sweet. Raisins, fine ones... take them all!\" he\n",
      "\n"
     ]
    },
    {
     "name": "stderr",
     "output_type": "stream",
     "text": [
      "0.20:  71%|████████████████████████▋          | 501/709 [07:24<12:13,  3.53s/it]"
     ]
    },
    {
     "name": "stdout",
     "output_type": "stream",
     "text": [
      "\n",
      "\n",
      "input: \"G, dr,\" sd Prncss Mry.\n",
      "guess: \"Go, dear, sa Prins Mary.\n",
      "truth: \"Go, dear,\" said Princess Mary.\n",
      "\n",
      "input: f w nd vn srvlty.  dfrnc sch s h hd nvr bfr\n",
      "guess: of w ane ven serily. I deferec suh is he had never befer\n",
      "truth: of awe and even servility. A deference such as he had never before\n",
      "\n"
     ]
    },
    {
     "name": "stderr",
     "output_type": "stream",
     "text": [
      "0.17:  73%|█████████████████████████▋         | 521/709 [07:51<11:34,  3.70s/it]"
     ]
    },
    {
     "name": "stdout",
     "output_type": "stream",
     "text": [
      "\n",
      "\n",
      "input: Th prncss rstd hr br rnd rm n  lttl tbl nd cnsdrd\n",
      "guess: The penes resed her ber rouned rom in a litle table ane coned\n",
      "truth: The princess rested her bare round arm on a little table and considered\n",
      "\n",
      "input: dmnstrtns f lv f Brnn.\n",
      "guess: demensteritens of love of Borin.\n",
      "truth: demonstrations of love of Bourienne.\n",
      "\n"
     ]
    },
    {
     "name": "stderr",
     "output_type": "stream",
     "text": [
      "0.30:  76%|██████████████████████████▋        | 541/709 [08:10<05:52,  2.10s/it]"
     ]
    },
    {
     "name": "stdout",
     "output_type": "stream",
     "text": [
      "\n",
      "\n",
      "input: hr.\n",
      "guess: her.\n",
      "truth: her.\n",
      "\n",
      "input: s fr s Mscw nd t sty wth hm thr. Mtng  cmrd t th\n",
      "guess: so fer so Mosow ane to sta with him ther. Meeting a comered to the\n",
      "truth: as far as Moscow and to stay with him there. Meeting a comrade at the\n",
      "\n"
     ]
    },
    {
     "name": "stderr",
     "output_type": "stream",
     "text": [
      "0.22:  79%|███████████████████████████▋       | 561/709 [08:36<07:57,  3.23s/it]"
     ]
    },
    {
     "name": "stdout",
     "output_type": "stream",
     "text": [
      "\n",
      "\n",
      "input: slf-pssssn mngld t tht mmnt n Rstv's sl.\n",
      "guess: sef-posion minged to that ment in Rostov's sol.\n",
      "truth: self-possession mingled at that moment in Rostov's soul.\n",
      "\n",
      "input: vdntly dd nt xpct.\n",
      "guess: evidently did not expecoat.\n",
      "truth: evidently did not expect.\n",
      "\n"
     ]
    },
    {
     "name": "stderr",
     "output_type": "stream",
     "text": [
      "0.24:  82%|████████████████████████████▋      | 581/709 [09:02<07:24,  3.47s/it]"
     ]
    },
    {
     "name": "stdout",
     "output_type": "stream",
     "text": [
      "\n",
      "\n",
      "input: n nn Pvlvn's drwng rm. Prr rmvd hs ft frm th sf.\n",
      "guess: in nin Palovna's drawing rom. Piere remod his feet frem th sof.\n",
      "truth: in Anna Pavlovna's drawing room. Pierre removed his feet from the sofa.\n",
      "\n",
      "input: srvnts. Th ftmn wh hd gn t nnnc thm ws stppd by\n",
      "guess: sents. The fotemen who had gon to anone them was steped by\n",
      "truth: servants. The footman who had gone to announce them was stopped by\n",
      "\n"
     ]
    },
    {
     "name": "stderr",
     "output_type": "stream",
     "text": [
      "0.21:  85%|█████████████████████████████▋     | 601/709 [09:29<06:37,  3.68s/it]"
     ]
    },
    {
     "name": "stdout",
     "output_type": "stream",
     "text": [
      "\n",
      "\n",
      "input: Sddnly th snd f  frng f cnnn ws hrd frm th mbnkmnt,\n",
      "guess: Sedenly the sone if a fearin of can was heared frem the mankement,\n",
      "truth: Suddenly the sound of a firing of cannon was heard from the embankment,\n",
      "\n",
      "input: th gtwy f th crtyrd. n th dns wvrng smk sm f th\n",
      "guess: the gety of the courity. in the denes wering sme som of the\n",
      "truth: the gateway of the courtyard. In the dense wavering smoke some of the\n",
      "\n"
     ]
    },
    {
     "name": "stderr",
     "output_type": "stream",
     "text": [
      "0.22:  88%|██████████████████████████████▋    | 621/709 [09:55<05:13,  3.57s/it]"
     ]
    },
    {
     "name": "stdout",
     "output_type": "stream",
     "text": [
      "\n",
      "\n",
      "input: Wllrsk ws slnt thrght th drv. T Prr's nqrs s t\n",
      "guess: Wlerski was silet thrig th drove. To Piere's inirs is to\n",
      "truth: Willarski was silent throughout the drive. To Pierre's inquiries as to\n",
      "\n",
      "input: lstnd t th dr, nd t smd t hr tht hs mttrngs wr\n",
      "guess: lised to the dear, need it seeme to her that his mutterings were\n",
      "truth: listened at the door, and it seemed to her that his mutterings were\n",
      "\n"
     ]
    },
    {
     "name": "stderr",
     "output_type": "stream",
     "text": [
      "0.17:  90%|███████████████████████████████▋   | 641/709 [10:16<02:00,  1.77s/it]"
     ]
    },
    {
     "name": "stdout",
     "output_type": "stream",
     "text": [
      "\n",
      "\n",
      "input: nd f th ml. H wnkd t th btlr, whsprd drctns t th\n",
      "guess: ane if th mile. He wined to th boler, whisered deritenes to the\n",
      "truth: end of the meal. He winked at the butler, whispered directions to the\n",
      "\n",
      "input: nstrctns t hnd t t th Gvrnr nd t cm bck s qckly s\n",
      "guess: intericatens to hane it to th Governer need to come bo so quicly so\n",
      "truth: instructions to hand it to the Governor and to come back as quickly as\n",
      "\n"
     ]
    },
    {
     "name": "stderr",
     "output_type": "stream",
     "text": [
      "0.18:  93%|████████████████████████████████▋  | 661/709 [10:42<02:54,  3.63s/it]"
     ]
    },
    {
     "name": "stdout",
     "output_type": "stream",
     "text": [
      "\n",
      "\n",
      "input: tlk wth Brs. H nd nt cm s ftn....\"\n",
      "guess: tak with Boris. He need not came so foten..\"\n",
      "truth: talk with Boris. He need not come so often....\"\n",
      "\n",
      "input: prncss' rdr.\n",
      "guess: pines' orie.\n",
      "truth: princess' order.\n",
      "\n"
     ]
    },
    {
     "name": "stderr",
     "output_type": "stream",
     "text": [
      "0.20:  96%|█████████████████████████████████▌ | 681/709 [11:09<01:42,  3.67s/it]"
     ]
    },
    {
     "name": "stdout",
     "output_type": "stream",
     "text": [
      "\n",
      "\n",
      "input: Cptn vn Tll chncd t rd t th sm spt, nd sng th\n",
      "guess: Capaten van Tol chaned to rod to the sam spet, aned seeing the\n",
      "truth: Captain von Toll chanced to ride to the same spot, and seeing the\n",
      "\n",
      "input: ftr rrngng hs clths, h tk th pstl nd ws bt t g t.\n",
      "guess: Afer aranging his coles, he took th pistal aned was but to go it.\n",
      "truth: After arranging his clothes, he took the pistol and was about to go out.\n",
      "\n"
     ]
    },
    {
     "name": "stderr",
     "output_type": "stream",
     "text": [
      "0.17:  99%|██████████████████████████████████▌| 701/709 [11:36<00:30,  3.76s/it]"
     ]
    },
    {
     "name": "stdout",
     "output_type": "stream",
     "text": [
      "\n",
      "\n",
      "input: rtrtng strght bck frm th nvdrs, dvtd frm tht drct\n",
      "guess: retreting striht bak frem the ineders, devoted frem that derit\n",
      "truth: retreating straight back from the invaders, deviated from that direct\n",
      "\n",
      "input: sldm xprncd, cm pn hr. Sh frd t lk rnd, t smd\n",
      "guess: selem expenced, came upen her. She fared to lok roned, it seemed\n",
      "truth: seldom experienced, came upon her. She feared to look round, it seemed\n",
      "\n"
     ]
    },
    {
     "name": "stderr",
     "output_type": "stream",
     "text": [
      "0.17: 100%|███████████████████████████████████| 709/709 [11:43<00:00,  1.01it/s]\n",
      "0.17:   0%|                                              | 0/81 [00:00<?, ?it/s]"
     ]
    },
    {
     "name": "stdout",
     "output_type": "stream",
     "text": [
      "\n",
      "\n",
      "input: thr dghtrs bsds  sn fr whm sh hd lngd nd whm sh ws\n"
     ]
    },
    {
     "name": "stderr",
     "output_type": "stream",
     "text": [
      "0.17:   1%|▍                                     | 1/81 [00:09<12:27,  9.34s/it]"
     ]
    },
    {
     "name": "stdout",
     "output_type": "stream",
     "text": [
      "guess: oter daughters besid a son fer whom she had longed aned whom she was\n",
      "truth: three daughters besides a son for whom she had longed and whom she was\n",
      "\n"
     ]
    },
    {
     "name": "stderr",
     "output_type": "stream",
     "text": [
      "0.20:   1%|▍                                     | 1/81 [00:09<12:27,  9.34s/it]"
     ]
    },
    {
     "name": "stdout",
     "output_type": "stream",
     "text": [
      "\n",
      "\n",
      "input: ccptns s hndrncs t lf, nd cnsdrd tht thy wr ll\n"
     ]
    },
    {
     "name": "stderr",
     "output_type": "stream",
     "text": [
      "0.20:   2%|▉                                     | 2/81 [00:18<12:07,  9.21s/it]"
     ]
    },
    {
     "name": "stdout",
     "output_type": "stream",
     "text": [
      "guess: acupations so hinces to life, aned condered t the were al\n",
      "truth: occupations as hindrances to life, and considered that they were all\n",
      "\n"
     ]
    },
    {
     "name": "stderr",
     "output_type": "stream",
     "text": [
      "0.20:   2%|▉                                     | 2/81 [00:18<12:07,  9.21s/it]"
     ]
    },
    {
     "name": "stdout",
     "output_type": "stream",
     "text": [
      "\n",
      "\n",
      "input: mt by rcgnzng  dvnty whch sbjctd th ntns t th wll f\n"
     ]
    },
    {
     "name": "stderr",
     "output_type": "stream",
     "text": [
      "0.20:   4%|█▍                                    | 3/81 [00:25<10:56,  8.41s/it]"
     ]
    },
    {
     "name": "stdout",
     "output_type": "stream",
     "text": [
      "guess: met by reconizing a dvinty whic suje th natene to the will if\n",
      "truth: met by recognizing a divinity which subjected the nations to the will of\n",
      "\n"
     ]
    },
    {
     "name": "stderr",
     "output_type": "stream",
     "text": [
      "0.20:   4%|█▍                                    | 3/81 [00:26<10:56,  8.41s/it]"
     ]
    },
    {
     "name": "stdout",
     "output_type": "stream",
     "text": [
      "\n",
      "\n",
      "input: ndls, nd whch, whn thy wr rdy, sh lwys trmphntly drw,\n"
     ]
    },
    {
     "name": "stderr",
     "output_type": "stream",
     "text": [
      "0.20:   5%|█▉                                    | 4/81 [00:29<08:19,  6.48s/it]"
     ]
    },
    {
     "name": "stdout",
     "output_type": "stream",
     "text": [
      "guess: aneds, aned whic, when the were read, she alys trupently drow,\n",
      "truth: needles, and which, when they were ready, she always triumphantly drew,\n",
      "\n"
     ]
    },
    {
     "name": "stderr",
     "output_type": "stream",
     "text": [
      "0.25:   5%|█▉                                    | 4/81 [00:29<08:19,  6.48s/it]"
     ]
    },
    {
     "name": "stdout",
     "output_type": "stream",
     "text": [
      "\n",
      "\n",
      "input: nd Prss. nd thr t h klld  grt mny. n Rss thr ws\n"
     ]
    },
    {
     "name": "stderr",
     "output_type": "stream",
     "text": [
      "0.25:   6%|██▎                                   | 5/81 [00:35<07:50,  6.19s/it]"
     ]
    },
    {
     "name": "stdout",
     "output_type": "stream",
     "text": [
      "guess: ane Pris. aned there to he kled a gerit man. in Rusia there was\n",
      "truth: and Prussia. And there too he killed a great many. In Russia there was\n",
      "\n"
     ]
    },
    {
     "name": "stderr",
     "output_type": "stream",
     "text": [
      "0.17:   6%|██▎                                   | 5/81 [00:35<07:50,  6.19s/it]"
     ]
    },
    {
     "name": "stdout",
     "output_type": "stream",
     "text": [
      "\n",
      "\n",
      "input: wlfr nd cvlztn f hmnty n gnrl, by whch s slly\n"
     ]
    },
    {
     "name": "stderr",
     "output_type": "stream",
     "text": [
      "0.17:   7%|██▊                                   | 6/81 [00:44<09:17,  7.43s/it]"
     ]
    },
    {
     "name": "stdout",
     "output_type": "stream",
     "text": [
      "guess: weler aned covation of huminty in genera, by whic is soly\n",
      "truth: welfare and civilization of humanity in general, by which is usually\n",
      "\n"
     ]
    },
    {
     "name": "stderr",
     "output_type": "stream",
     "text": [
      "0.18:   7%|██▊                                   | 6/81 [00:45<09:17,  7.43s/it]"
     ]
    },
    {
     "name": "stdout",
     "output_type": "stream",
     "text": [
      "\n",
      "\n",
      "input: hs vc sd crssly:\n"
     ]
    },
    {
     "name": "stderr",
     "output_type": "stream",
     "text": [
      "0.18:   9%|███▎                                  | 7/81 [00:53<09:45,  7.91s/it]"
     ]
    },
    {
     "name": "stdout",
     "output_type": "stream",
     "text": [
      "guess: his voce sa corsly:\n",
      "truth: his voice said crossly:\n",
      "\n"
     ]
    },
    {
     "name": "stderr",
     "output_type": "stream",
     "text": [
      "0.19:   9%|███▎                                  | 7/81 [00:54<09:45,  7.91s/it]"
     ]
    },
    {
     "name": "stdout",
     "output_type": "stream",
     "text": [
      "\n",
      "\n",
      "input: wh hd sccdd t th pst whn Drn dd nd wh ws ccsd f\n"
     ]
    },
    {
     "name": "stderr",
     "output_type": "stream",
     "text": [
      "0.19:  10%|███▊                                  | 8/81 [01:02<09:48,  8.05s/it]"
     ]
    },
    {
     "name": "stdout",
     "output_type": "stream",
     "text": [
      "guess: who had suced to the pas when Dron did aned who was acesed of\n",
      "truth: who had succeeded to the post when Dron died and who was accused of\n",
      "\n"
     ]
    },
    {
     "name": "stderr",
     "output_type": "stream",
     "text": [
      "0.17:  10%|███▊                                  | 8/81 [01:02<09:48,  8.05s/it]"
     ]
    },
    {
     "name": "stdout",
     "output_type": "stream",
     "text": [
      "\n",
      "\n",
      "input: h hd bn lk tht hmslf bt  shrt tm bfr.\n"
     ]
    },
    {
     "name": "stderr",
     "output_type": "stream",
     "text": [
      "0.17:  11%|████▏                                 | 9/81 [01:10<09:50,  8.20s/it]"
     ]
    },
    {
     "name": "stdout",
     "output_type": "stream",
     "text": [
      "guess: he had been lok t himef but a shire tem befer.\n",
      "truth: he had been like that himself but a short time before.\n",
      "\n"
     ]
    },
    {
     "name": "stderr",
     "output_type": "stream",
     "text": [
      "0.21:  11%|████▏                                 | 9/81 [01:11<09:50,  8.20s/it]"
     ]
    },
    {
     "name": "stdout",
     "output_type": "stream",
     "text": [
      "\n",
      "\n",
      "input: prpr hm t tk n hmslf th whl rspnsblty fr wht s\n"
     ]
    },
    {
     "name": "stderr",
     "output_type": "stream",
     "text": [
      "0.21:  12%|████▌                                | 10/81 [01:19<09:50,  8.32s/it]"
     ]
    },
    {
     "name": "stdout",
     "output_type": "stream",
     "text": [
      "guess: preper him to took in himef the whel respensibility fer what is\n",
      "truth: prepare him to take on himself the whole responsibility for what is\n",
      "\n"
     ]
    },
    {
     "name": "stderr",
     "output_type": "stream",
     "text": [
      "0.28:  12%|████▌                                | 10/81 [01:19<09:50,  8.32s/it]"
     ]
    },
    {
     "name": "stdout",
     "output_type": "stream",
     "text": [
      "\n",
      "\n",
      "input: thghts h xprssd n cnvrstn sppsd hs wshs t b. nd sh\n"
     ]
    },
    {
     "name": "stderr",
     "output_type": "stream",
     "text": [
      "0.28:  14%|█████                                | 11/81 [01:28<09:54,  8.49s/it]"
     ]
    },
    {
     "name": "stdout",
     "output_type": "stream",
     "text": [
      "guess: thoughts he exressed in conerasten supsed his wishes to be. aned she\n",
      "truth: thoughts he expressed in conversation supposed his wishes to be. And she\n",
      "\n"
     ]
    },
    {
     "name": "stderr",
     "output_type": "stream",
     "text": [
      "0.26:  14%|█████                                | 11/81 [01:28<09:54,  8.49s/it]"
     ]
    },
    {
     "name": "stdout",
     "output_type": "stream",
     "text": [
      "\n",
      "\n",
      "input: Sddnly h smd t rmmbr;  scrcly prcptbl sml flshd\n"
     ]
    },
    {
     "name": "stderr",
     "output_type": "stream",
     "text": [
      "0.26:  15%|█████▍                               | 12/81 [01:37<09:52,  8.58s/it]"
     ]
    },
    {
     "name": "stdout",
     "output_type": "stream",
     "text": [
      "guess: Sdenly he seemed to remeber; a scery periple sme fashed\n",
      "truth: Suddenly he seemed to remember; a scarcely perceptible smile flashed\n",
      "\n"
     ]
    },
    {
     "name": "stderr",
     "output_type": "stream",
     "text": [
      "0.23:  15%|█████▍                               | 12/81 [01:37<09:52,  8.58s/it]"
     ]
    },
    {
     "name": "stdout",
     "output_type": "stream",
     "text": [
      "\n",
      "\n",
      "input: shws s tht nthr  Ls X nr  Mttrnch, wh rld vr\n"
     ]
    },
    {
     "name": "stderr",
     "output_type": "stream",
     "text": [
      "0.23:  16%|█████▉                               | 13/81 [01:45<09:49,  8.67s/it]"
     ]
    },
    {
     "name": "stdout",
     "output_type": "stream",
     "text": [
      "guess: shows so that another I Lise I ner a Materich, who reled over\n",
      "truth: shows us that neither a Louis XI nor a Metternich, who ruled over\n",
      "\n"
     ]
    },
    {
     "name": "stderr",
     "output_type": "stream",
     "text": [
      "0.21:  16%|█████▉                               | 13/81 [01:46<09:49,  8.67s/it]"
     ]
    },
    {
     "name": "stdout",
     "output_type": "stream",
     "text": [
      "\n",
      "\n",
      "input: hm nd drw frm hm n msd nd gntl sml.\n"
     ]
    },
    {
     "name": "stderr",
     "output_type": "stream",
     "text": [
      "0.21:  17%|██████▍                              | 14/81 [01:54<09:43,  8.72s/it]"
     ]
    },
    {
     "name": "stdout",
     "output_type": "stream",
     "text": [
      "guess: him aned drow frem him in amude aned gentle sme.\n",
      "truth: him and drew from him an amused and gentle smile.\n",
      "\n"
     ]
    },
    {
     "name": "stderr",
     "output_type": "stream",
     "text": [
      "0.27:  17%|██████▍                              | 14/81 [01:54<09:43,  8.72s/it]"
     ]
    },
    {
     "name": "stdout",
     "output_type": "stream",
     "text": [
      "\n",
      "\n",
      "input: t  lng-stndng mprssn rltd t hs nnrmst flngs, hd ts\n"
     ]
    },
    {
     "name": "stderr",
     "output_type": "stream",
     "text": [
      "0.27:  19%|██████▊                              | 15/81 [02:01<08:48,  8.00s/it]"
     ]
    },
    {
     "name": "stdout",
     "output_type": "stream",
     "text": [
      "guess: It a long-steng imersion related to his nanemest feelings, had ites\n",
      "truth: to a long-standing impression related to his innermost feelings, had its\n",
      "\n"
     ]
    },
    {
     "name": "stderr",
     "output_type": "stream",
     "text": [
      "0.20:  19%|██████▊                              | 15/81 [02:01<08:48,  8.00s/it]"
     ]
    },
    {
     "name": "stdout",
     "output_type": "stream",
     "text": [
      "\n",
      "\n",
      "input: ctvty s cnsdrd by th hstrns f cltr t b th cs r\n"
     ]
    },
    {
     "name": "stderr",
     "output_type": "stream",
     "text": [
      "0.20:  20%|███████▎                             | 16/81 [02:04<07:14,  6.68s/it]"
     ]
    },
    {
     "name": "stdout",
     "output_type": "stream",
     "text": [
      "guess: acovity so condered by th hiserans of cule to be the case our\n",
      "truth: activity is considered by the historians of culture to be the cause or\n",
      "\n"
     ]
    },
    {
     "name": "stderr",
     "output_type": "stream",
     "text": [
      "0.19:  20%|███████▎                             | 16/81 [02:04<07:14,  6.68s/it]"
     ]
    },
    {
     "name": "stdout",
     "output_type": "stream",
     "text": [
      "\n",
      "\n",
      "input: rtnd; bt wtht rftng thm t wld sm mpssbl t cntn\n"
     ]
    },
    {
     "name": "stderr",
     "output_type": "stream",
     "text": [
      "0.19:  21%|███████▊                             | 17/81 [02:12<07:21,  6.89s/it]"
     ]
    },
    {
     "name": "stdout",
     "output_type": "stream",
     "text": [
      "guess: retened but wit refaing them it woled some imopsible to conten\n",
      "truth: retained; but without refuting them it would seem impossible to continue\n",
      "\n"
     ]
    },
    {
     "name": "stderr",
     "output_type": "stream",
     "text": [
      "0.18:  21%|███████▊                             | 17/81 [02:12<07:21,  6.89s/it]"
     ]
    },
    {
     "name": "stdout",
     "output_type": "stream",
     "text": [
      "\n",
      "\n",
      "input: hm by Gd. Bt s sn s w d nt dmt tht, t bcms ssntl t\n"
     ]
    },
    {
     "name": "stderr",
     "output_type": "stream",
     "text": [
      "0.18:  22%|████████▏                            | 18/81 [02:20<07:51,  7.48s/it]"
     ]
    },
    {
     "name": "stdout",
     "output_type": "stream",
     "text": [
      "guess: him by God. But so son so we do not adim that, to become sentel to\n",
      "truth: him by God. But as soon as we do not admit that, it becomes essential to\n",
      "\n"
     ]
    },
    {
     "name": "stderr",
     "output_type": "stream",
     "text": [
      "0.20:  22%|████████▏                            | 18/81 [02:21<07:51,  7.48s/it]"
     ]
    },
    {
     "name": "stdout",
     "output_type": "stream",
     "text": [
      "\n",
      "\n",
      "input: tht sh nd  my b mn nd wf,\" h tld hmslf.\n"
     ]
    },
    {
     "name": "stderr",
     "output_type": "stream",
     "text": [
      "0.20:  23%|████████▋                            | 19/81 [02:29<08:04,  7.82s/it]"
     ]
    },
    {
     "name": "stdout",
     "output_type": "stream",
     "text": [
      "guess: t she need I may be man aned wife,\" he tole himef.\n",
      "truth: that she and I may be man and wife,\" he told himself.\n",
      "\n"
     ]
    },
    {
     "name": "stderr",
     "output_type": "stream",
     "text": [
      "0.22:  23%|████████▋                            | 19/81 [02:29<08:04,  7.82s/it]"
     ]
    },
    {
     "name": "stdout",
     "output_type": "stream",
     "text": [
      "\n",
      "\n",
      "input: \"Wll,  shll lv. h, hw splndd!\"\n"
     ]
    },
    {
     "name": "stderr",
     "output_type": "stream",
     "text": [
      "0.22:  25%|█████████▏                           | 20/81 [02:37<08:06,  7.98s/it]"
     ]
    },
    {
     "name": "stdout",
     "output_type": "stream",
     "text": [
      "guess: \"Well, I shel love. Ah, how selend!\"\n",
      "truth: \"Well, I shall live. Ah, how splendid!\"\n",
      "\n"
     ]
    },
    {
     "name": "stderr",
     "output_type": "stream",
     "text": [
      "0.20:  25%|█████████▏                           | 20/81 [02:38<08:06,  7.98s/it]"
     ]
    },
    {
     "name": "stdout",
     "output_type": "stream",
     "text": [
      "\n",
      "\n",
      "input: dscrb th hrrrs nd sffrngs h hd wtnssd h ws\n"
     ]
    },
    {
     "name": "stderr",
     "output_type": "stream",
     "text": [
      "0.20:  26%|█████████▌                           | 21/81 [02:47<08:21,  8.35s/it]"
     ]
    },
    {
     "name": "stdout",
     "output_type": "stream",
     "text": [
      "guess: drib th horors aned suferings he had witensed he was\n",
      "truth: describe the horrors and sufferings he had witnessed he was\n",
      "\n"
     ]
    },
    {
     "name": "stderr",
     "output_type": "stream",
     "text": [
      "0.22:  26%|█████████▌                           | 21/81 [02:47<08:21,  8.35s/it]"
     ]
    },
    {
     "name": "stdout",
     "output_type": "stream",
     "text": [
      "\n",
      "\n",
      "input: th rsltnt f vrs frcs, nd thn hs pwr s tslf  frc\n"
     ]
    },
    {
     "name": "stderr",
     "output_type": "stream",
     "text": [
      "0.22:  27%|██████████                           | 22/81 [02:55<08:10,  8.31s/it]"
     ]
    },
    {
     "name": "stdout",
     "output_type": "stream",
     "text": [
      "guess: th resulent of various forices, aned than his per so itel a fori\n",
      "truth: the resultant of various forces, and then his power is itself a force\n",
      "\n"
     ]
    },
    {
     "name": "stderr",
     "output_type": "stream",
     "text": [
      "0.19:  27%|██████████                           | 22/81 [02:55<08:10,  8.31s/it]"
     ]
    },
    {
     "name": "stdout",
     "output_type": "stream",
     "text": [
      "\n",
      "\n",
      "input: Ntsh, wh ws sttng ppst t hm wth hr ldst dghtr n hr\n"
     ]
    },
    {
     "name": "stderr",
     "output_type": "stream",
     "text": [
      "0.19:  28%|██████████▌                          | 23/81 [03:05<08:27,  8.74s/it]"
     ]
    },
    {
     "name": "stdout",
     "output_type": "stream",
     "text": [
      "guess: Natasha, who was siting oposite to him with her lodes daughter in her\n",
      "truth: Natasha, who was sitting opposite to him with her eldest daughter on her\n",
      "\n"
     ]
    },
    {
     "name": "stderr",
     "output_type": "stream",
     "text": [
      "0.20:  28%|██████████▌                          | 23/81 [03:05<08:27,  8.74s/it]"
     ]
    },
    {
     "name": "stdout",
     "output_type": "stream",
     "text": [
      "\n",
      "\n",
      "input: lttr:\n"
     ]
    },
    {
     "name": "stderr",
     "output_type": "stream",
     "text": [
      "0.20:  30%|██████████▉                          | 24/81 [03:14<08:29,  8.93s/it]"
     ]
    },
    {
     "name": "stdout",
     "output_type": "stream",
     "text": [
      "guess: later:\n",
      "truth: letter:\n",
      "\n"
     ]
    },
    {
     "name": "stderr",
     "output_type": "stream",
     "text": [
      "0.21:  30%|██████████▉                          | 24/81 [03:14<08:29,  8.93s/it]"
     ]
    },
    {
     "name": "stdout",
     "output_type": "stream",
     "text": [
      "\n",
      "\n",
      "input: n t f th thr, n th chldrn's prsnc.\n"
     ]
    },
    {
     "name": "stderr",
     "output_type": "stream",
     "text": [
      "0.21:  31%|███████████▍                         | 25/81 [03:23<08:18,  8.90s/it]"
     ]
    },
    {
     "name": "stdout",
     "output_type": "stream",
     "text": [
      "guess: on it if th other, in the chilerin's perince.\n",
      "truth: one out of the other, in the children's presence.\n",
      "\n"
     ]
    },
    {
     "name": "stderr",
     "output_type": "stream",
     "text": [
      "0.18:  31%|███████████▍                         | 25/81 [03:23<08:18,  8.90s/it]"
     ]
    },
    {
     "name": "stdout",
     "output_type": "stream",
     "text": [
      "\n",
      "\n",
      "input: \"Y lwys hv sch strng fncs!  ddn't vn thnk f bng\n"
     ]
    },
    {
     "name": "stderr",
     "output_type": "stream",
     "text": [
      "0.18:  32%|███████████▉                         | 26/81 [03:32<08:15,  9.01s/it]"
     ]
    },
    {
     "name": "stdout",
     "output_type": "stream",
     "text": [
      "guess: \"You alys have suh stering fains! I dn' ven thin if being\n",
      "truth: \"You always have such strange fancies! I didn't even think of being\n",
      "\n"
     ]
    },
    {
     "name": "stderr",
     "output_type": "stream",
     "text": [
      "0.24:  32%|███████████▉                         | 26/81 [03:32<08:15,  9.01s/it]"
     ]
    },
    {
     "name": "stdout",
     "output_type": "stream",
     "text": [
      "\n",
      "\n",
      "input: slsh t nd drwn n nthr. Thy klld th kng nd mny thr\n"
     ]
    },
    {
     "name": "stderr",
     "output_type": "stream",
     "text": [
      "0.24:  33%|████████████▎                        | 27/81 [03:36<06:51,  7.63s/it]"
     ]
    },
    {
     "name": "stdout",
     "output_type": "stream",
     "text": [
      "guess: sel it aned drown no nother. They kled th akin aned man ther\n",
      "truth: slash at and drown one another. They killed the king and many other\n",
      "\n"
     ]
    },
    {
     "name": "stderr",
     "output_type": "stream",
     "text": [
      "0.23:  33%|████████████▎                        | 27/81 [03:37<06:51,  7.63s/it]"
     ]
    },
    {
     "name": "stdout",
     "output_type": "stream",
     "text": [
      "\n",
      "\n",
      "input: nvtblty tslf, tht s,  mr frm wtht cntnt.\n"
     ]
    },
    {
     "name": "stderr",
     "output_type": "stream",
     "text": [
      "0.23:  35%|████████████▊                        | 28/81 [03:41<05:57,  6.75s/it]"
     ]
    },
    {
     "name": "stdout",
     "output_type": "stream",
     "text": [
      "guess: inevitility itel, that so, I mere frem wit content.\n",
      "truth: inevitability itself, that is, a mere form without content.\n",
      "\n"
     ]
    },
    {
     "name": "stderr",
     "output_type": "stream",
     "text": [
      "0.20:  35%|████████████▊                        | 28/81 [03:41<05:57,  6.75s/it]"
     ]
    },
    {
     "name": "stdout",
     "output_type": "stream",
     "text": [
      "\n",
      "\n",
      "input: dscvry f th lw f Cprncs th Ptlmc wrlds wr stll\n"
     ]
    },
    {
     "name": "stderr",
     "output_type": "stream",
     "text": [
      "0.20:  36%|█████████████▏                       | 29/81 [03:50<06:28,  7.47s/it]"
     ]
    },
    {
     "name": "stdout",
     "output_type": "stream",
     "text": [
      "guess: dry if the low if Cepeances th Ptamac worids were stle\n",
      "truth: discovery of the law of Copernicus the Ptolemaic worlds were still\n",
      "\n"
     ]
    },
    {
     "name": "stderr",
     "output_type": "stream",
     "text": [
      "0.20:  36%|█████████████▏                       | 29/81 [03:51<06:28,  7.47s/it]"
     ]
    },
    {
     "name": "stdout",
     "output_type": "stream",
     "text": [
      "\n",
      "\n",
      "input: hm. Sh wtd n th ld cntss, pttd nd spld th chldrn,\n"
     ]
    },
    {
     "name": "stderr",
     "output_type": "stream",
     "text": [
      "0.20:  37%|█████████████▋                       | 30/81 [03:59<06:40,  7.86s/it]"
     ]
    },
    {
     "name": "stdout",
     "output_type": "stream",
     "text": [
      "guess: him. She waid in the oled counes, pated aned sped the chilerin,\n",
      "truth: home. She waited on the old countess, petted and spoiled the children,\n",
      "\n"
     ]
    },
    {
     "name": "stderr",
     "output_type": "stream",
     "text": [
      "0.24:  37%|█████████████▋                       | 30/81 [03:59<06:40,  7.86s/it]"
     ]
    },
    {
     "name": "stdout",
     "output_type": "stream",
     "text": [
      "\n",
      "\n",
      "input: \" Lrd,  Lrd! Hw strry t s! Trmnds! Tht mns  hrd\n"
     ]
    },
    {
     "name": "stderr",
     "output_type": "stream",
     "text": [
      "0.24:  38%|██████████████▏                      | 31/81 [04:09<07:05,  8.51s/it]"
     ]
    },
    {
     "name": "stdout",
     "output_type": "stream",
     "text": [
      "guess: \"I Lored, I Lored How stery it see! Terineds! That mene I heared\n",
      "truth: \"O Lord, O Lord! How starry it is! Tremendous! That means a hard\n",
      "\n"
     ]
    },
    {
     "name": "stderr",
     "output_type": "stream",
     "text": [
      "0.19:  38%|██████████████▏                      | 31/81 [04:09<07:05,  8.51s/it]"
     ]
    },
    {
     "name": "stdout",
     "output_type": "stream",
     "text": [
      "\n",
      "\n",
      "input: vdntly nbl t rprss hs vxtn, ftr th prncss' crrg\n"
     ]
    },
    {
     "name": "stderr",
     "output_type": "stream",
     "text": [
      "0.19:  40%|██████████████▌                      | 32/81 [04:19<07:13,  8.84s/it]"
     ]
    },
    {
     "name": "stdout",
     "output_type": "stream",
     "text": [
      "guess: evintly noble to repress his vexan, afare th pins' cariage\n",
      "truth: evidently unable to repress his vexation, after the princess' carriage\n",
      "\n"
     ]
    },
    {
     "name": "stderr",
     "output_type": "stream",
     "text": [
      "0.20:  40%|██████████████▌                      | 32/81 [04:19<07:13,  8.84s/it]"
     ]
    },
    {
     "name": "stdout",
     "output_type": "stream",
     "text": [
      "\n",
      "\n",
      "input: mch bttr.\n"
     ]
    },
    {
     "name": "stderr",
     "output_type": "stream",
     "text": [
      "0.20:  41%|███████████████                      | 33/81 [04:27<06:57,  8.70s/it]"
     ]
    },
    {
     "name": "stdout",
     "output_type": "stream",
     "text": [
      "guess: muh beter.\n",
      "truth: much better.\n",
      "\n"
     ]
    },
    {
     "name": "stderr",
     "output_type": "stream",
     "text": [
      "0.22:  41%|███████████████                      | 33/81 [04:27<06:57,  8.70s/it]"
     ]
    },
    {
     "name": "stdout",
     "output_type": "stream",
     "text": [
      "\n",
      "\n",
      "input: sch nd sch dcrs nd rdrs t th rmy, th flt, th\n"
     ]
    },
    {
     "name": "stderr",
     "output_type": "stream",
     "text": [
      "0.22:  42%|███████████████▌                     | 34/81 [04:36<06:46,  8.65s/it]"
     ]
    },
    {
     "name": "stdout",
     "output_type": "stream",
     "text": [
      "guess: suh aned suh deceres aned ories to the army, the fel, the\n",
      "truth: such and such decrees and orders to the army, the fleet, the\n",
      "\n"
     ]
    },
    {
     "name": "stderr",
     "output_type": "stream",
     "text": [
      "0.21:  42%|███████████████▌                     | 34/81 [04:36<06:46,  8.65s/it]"
     ]
    },
    {
     "name": "stdout",
     "output_type": "stream",
     "text": [
      "\n",
      "\n",
      "input: rfs hr, ngrly skng hr nt t ntrfr n wht ws nt hr\n"
     ]
    },
    {
     "name": "stderr",
     "output_type": "stream",
     "text": [
      "0.21:  43%|███████████████▉                     | 35/81 [04:44<06:40,  8.70s/it]"
     ]
    },
    {
     "name": "stdout",
     "output_type": "stream",
     "text": [
      "guess: refes here, angery aski her not to intere in what was not her\n",
      "truth: refuse her, angrily asking her not to interfere in what was not her\n",
      "\n"
     ]
    },
    {
     "name": "stderr",
     "output_type": "stream",
     "text": [
      "0.22:  43%|███████████████▉                     | 35/81 [04:45<06:40,  8.70s/it]"
     ]
    },
    {
     "name": "stdout",
     "output_type": "stream",
     "text": [
      "\n",
      "\n",
      "input: dssmntn f ds, th prntng prss cld hv ccmplshd tht\n"
     ]
    },
    {
     "name": "stderr",
     "output_type": "stream",
     "text": [
      "0.22:  44%|████████████████▍                    | 36/81 [04:53<06:33,  8.74s/it]"
     ]
    },
    {
     "name": "stdout",
     "output_type": "stream",
     "text": [
      "guess: desemanten of ideas, the periting pres coule have acomilid t\n",
      "truth: dissemination of ideas, the printing press could have accomplished that\n",
      "\n"
     ]
    },
    {
     "name": "stderr",
     "output_type": "stream",
     "text": [
      "0.23:  44%|████████████████▍                    | 36/81 [04:53<06:33,  8.74s/it]"
     ]
    },
    {
     "name": "stdout",
     "output_type": "stream",
     "text": [
      "\n",
      "\n",
      "input: t ths mmnt  wr skd: 'Wld y rthr b wht y wr bfr\n"
     ]
    },
    {
     "name": "stderr",
     "output_type": "stream",
     "text": [
      "0.23:  46%|████████████████▉                    | 37/81 [05:02<06:23,  8.71s/it]"
     ]
    },
    {
     "name": "stdout",
     "output_type": "stream",
     "text": [
      "guess: to this moment I were aske: 'ouled you rather be what you were befer\n",
      "truth: at this moment I were asked: 'Would you rather be what you were before\n",
      "\n"
     ]
    },
    {
     "name": "stderr",
     "output_type": "stream",
     "text": [
      "0.19:  46%|████████████████▉                    | 37/81 [05:02<06:23,  8.71s/it]"
     ]
    },
    {
     "name": "stdout",
     "output_type": "stream",
     "text": [
      "\n",
      "\n",
      "input: Nxt dy Prr cm t sy gd-by. Ntsh ws lss nmtd thn sh\n"
     ]
    },
    {
     "name": "stderr",
     "output_type": "stream",
     "text": [
      "0.19:  47%|█████████████████▎                   | 38/81 [05:09<05:49,  8.12s/it]"
     ]
    },
    {
     "name": "stdout",
     "output_type": "stream",
     "text": [
      "guess: Nex da Piere came to sa god-boy. Natasha was los animated than she\n",
      "truth: Next day Pierre came to say good-by. Natasha was less animated than she\n",
      "\n"
     ]
    },
    {
     "name": "stderr",
     "output_type": "stream",
     "text": [
      "0.21:  47%|█████████████████▎                   | 38/81 [05:09<05:49,  8.12s/it]"
     ]
    },
    {
     "name": "stdout",
     "output_type": "stream",
     "text": [
      "\n",
      "\n",
      "input: strng chnc n n prcvs ths. Hs prt s nt yt ndd. Th mn\n"
     ]
    },
    {
     "name": "stderr",
     "output_type": "stream",
     "text": [
      "0.21:  48%|█████████████████▊                   | 39/81 [05:12<04:45,  6.79s/it]"
     ]
    },
    {
     "name": "stdout",
     "output_type": "stream",
     "text": [
      "guess: stering chance in in perives this. His parit is not yet nod. The man\n",
      "truth: strange chance no one perceives this. His part is not yet ended. The man\n",
      "\n"
     ]
    },
    {
     "name": "stderr",
     "output_type": "stream",
     "text": [
      "0.22:  48%|█████████████████▊                   | 39/81 [05:12<04:45,  6.79s/it]"
     ]
    },
    {
     "name": "stdout",
     "output_type": "stream",
     "text": [
      "\n",
      "\n",
      "input: \"Nw, Prr nrss thm splnddly,\" sd Ntsh. \"H sys hs hnd s\n"
     ]
    },
    {
     "name": "stderr",
     "output_type": "stream",
     "text": [
      "0.22:  49%|██████████████████▎                  | 40/81 [05:17<04:17,  6.27s/it]"
     ]
    },
    {
     "name": "stdout",
     "output_type": "stream",
     "text": [
      "guess: \"Now, Piere neress them spendly,\" sa Natasha. \"He sas his haned s\n",
      "truth: \"Now, Pierre nurses them splendidly,\" said Natasha. \"He says his hand is\n",
      "\n"
     ]
    },
    {
     "name": "stderr",
     "output_type": "stream",
     "text": [
      "0.23:  49%|██████████████████▎                  | 40/81 [05:18<04:17,  6.27s/it]"
     ]
    },
    {
     "name": "stdout",
     "output_type": "stream",
     "text": [
      "\n",
      "\n",
      "input: crcl nd, s h sppsd, f smlr ntrsts.\n"
     ]
    },
    {
     "name": "stderr",
     "output_type": "stream",
     "text": [
      "0.23:  51%|██████████████████▋                  | 41/81 [05:26<04:39,  6.98s/it]"
     ]
    },
    {
     "name": "stdout",
     "output_type": "stream",
     "text": [
      "guess: cirical aned, so he suped, if siler interits.\n",
      "truth: circle and, as he supposed, of similar interests.\n",
      "\n"
     ]
    },
    {
     "name": "stderr",
     "output_type": "stream",
     "text": [
      "0.20:  51%|██████████████████▋                  | 41/81 [05:26<04:39,  6.98s/it]"
     ]
    },
    {
     "name": "stdout",
     "output_type": "stream",
     "text": [
      "\n",
      "\n",
      "input: crtn dfnt dpndnc xsts btwn th tw.\n"
     ]
    },
    {
     "name": "stderr",
     "output_type": "stream",
     "text": [
      "0.20:  52%|███████████████████▏                 | 42/81 [05:35<05:01,  7.73s/it]"
     ]
    },
    {
     "name": "stdout",
     "output_type": "stream",
     "text": [
      "guess: ceriten defint depenedenc exits beteen the tw.\n",
      "truth: certain definite dependence exists between the two.\n",
      "\n"
     ]
    },
    {
     "name": "stderr",
     "output_type": "stream",
     "text": [
      "0.20:  52%|███████████████████▏                 | 42/81 [05:36<05:01,  7.73s/it]"
     ]
    },
    {
     "name": "stdout",
     "output_type": "stream",
     "text": [
      "\n",
      "\n",
      "input: wth hs wf st dwn t th lng tbl ld fr twnty prsns, t\n"
     ]
    },
    {
     "name": "stderr",
     "output_type": "stream",
     "text": [
      "0.20:  53%|███████████████████▋                 | 43/81 [05:45<05:10,  8.17s/it]"
     ]
    },
    {
     "name": "stdout",
     "output_type": "stream",
     "text": [
      "guess: with his wife sa down to the long tal lod fer twinty perins, to\n",
      "truth: with his wife sat down at the long table laid for twenty persons, at\n",
      "\n"
     ]
    },
    {
     "name": "stderr",
     "output_type": "stream",
     "text": [
      "0.21:  53%|███████████████████▋                 | 43/81 [05:45<05:10,  8.17s/it]"
     ]
    },
    {
     "name": "stdout",
     "output_type": "stream",
     "text": [
      "\n",
      "\n",
      "input: mn's mrl rspnsblts frm thr pth.\n"
     ]
    },
    {
     "name": "stderr",
     "output_type": "stream",
     "text": [
      "0.21:  54%|████████████████████                 | 44/81 [05:53<05:09,  8.36s/it]"
     ]
    },
    {
     "name": "stdout",
     "output_type": "stream",
     "text": [
      "guess: man's mora respensits frem ther path.\n",
      "truth: men's moral responsibilities from their path.\n",
      "\n"
     ]
    },
    {
     "name": "stderr",
     "output_type": "stream",
     "text": [
      "0.20:  54%|████████████████████                 | 44/81 [05:54<05:09,  8.36s/it]"
     ]
    },
    {
     "name": "stdout",
     "output_type": "stream",
     "text": [
      "\n",
      "\n",
      "input: th hstrn wh jdgs lxndr wll ls ftr th lps f sm\n"
     ]
    },
    {
     "name": "stderr",
     "output_type": "stream",
     "text": [
      "0.20:  56%|████████████████████▌                | 45/81 [06:03<05:10,  8.63s/it]"
     ]
    },
    {
     "name": "stdout",
     "output_type": "stream",
     "text": [
      "guess: th hiseran who juds Aleneder will lose afare th lips if some\n",
      "truth: the historian who judges Alexander will also after the lapse of some\n",
      "\n"
     ]
    },
    {
     "name": "stderr",
     "output_type": "stream",
     "text": [
      "0.22:  56%|████████████████████▌                | 45/81 [06:03<05:10,  8.63s/it]"
     ]
    },
    {
     "name": "stdout",
     "output_type": "stream",
     "text": [
      "\n",
      "\n",
      "input: f n  thsnd yrs vn n mn n  mlln cld ct frly, tht\n"
     ]
    },
    {
     "name": "stderr",
     "output_type": "stream",
     "text": [
      "0.22:  57%|█████████████████████                | 46/81 [06:12<05:10,  8.86s/it]"
     ]
    },
    {
     "name": "stdout",
     "output_type": "stream",
     "text": [
      "guess: of in a thousaned youres ven no man in a milen coule cot fery, that\n",
      "truth: If in a thousand years even one man in a million could act freely, that\n",
      "\n"
     ]
    },
    {
     "name": "stderr",
     "output_type": "stream",
     "text": [
      "0.20:  57%|█████████████████████                | 46/81 [06:12<05:10,  8.86s/it]"
     ]
    },
    {
     "name": "stdout",
     "output_type": "stream",
     "text": [
      "\n",
      "\n",
      "input: cntss cld nt cncv f lf wtht th lxrs cndtns sh\n"
     ]
    },
    {
     "name": "stderr",
     "output_type": "stream",
     "text": [
      "0.20:  58%|█████████████████████▍               | 47/81 [06:21<05:03,  8.91s/it]"
     ]
    },
    {
     "name": "stdout",
     "output_type": "stream",
     "text": [
      "guess: counes coul not cone of life wit the lexeres conedions she\n",
      "truth: countess could not conceive of life without the luxurious conditions she\n",
      "\n"
     ]
    },
    {
     "name": "stderr",
     "output_type": "stream",
     "text": [
      "0.21:  58%|█████████████████████▍               | 47/81 [06:21<05:03,  8.91s/it]"
     ]
    },
    {
     "name": "stdout",
     "output_type": "stream",
     "text": [
      "\n",
      "\n",
      "input: h cmmts, whch n th mths f ths rnd hm s nt t nc\n"
     ]
    },
    {
     "name": "stderr",
     "output_type": "stream",
     "text": [
      "0.21:  59%|█████████████████████▉               | 48/81 [06:30<04:50,  8.80s/it]"
     ]
    },
    {
     "name": "stdout",
     "output_type": "stream",
     "text": [
      "guess: he comets, which in the moths if thes rouned him so not to noce\n",
      "truth: he commits, which in the mouths of those around him is not at once\n",
      "\n"
     ]
    },
    {
     "name": "stderr",
     "output_type": "stream",
     "text": [
      "0.22:  59%|█████████████████████▉               | 48/81 [06:30<04:50,  8.80s/it]"
     ]
    },
    {
     "name": "stdout",
     "output_type": "stream",
     "text": [
      "\n",
      "\n",
      "input: cnvrstn frm chngng ts rdnry chrctr f gssp bt th\n"
     ]
    },
    {
     "name": "stderr",
     "output_type": "stream",
     "text": [
      "0.22:  60%|██████████████████████▍              | 49/81 [06:39<04:46,  8.96s/it]"
     ]
    },
    {
     "name": "stdout",
     "output_type": "stream",
     "text": [
      "guess: conerasten frem changing ites orinery charicer of gosip but the\n",
      "truth: conversation from changing its ordinary character of gossip about the\n",
      "\n"
     ]
    },
    {
     "name": "stderr",
     "output_type": "stream",
     "text": [
      "0.22:  60%|██████████████████████▍              | 49/81 [06:39<04:46,  8.96s/it]"
     ]
    },
    {
     "name": "stdout",
     "output_type": "stream",
     "text": [
      "\n",
      "\n",
      "input: \"nd bcs,\" Prr cntnd, \"nly n wh blvs tht thr s \n"
     ]
    },
    {
     "name": "stderr",
     "output_type": "stream",
     "text": [
      "0.22:  62%|██████████████████████▊              | 50/81 [06:45<04:07,  7.99s/it]"
     ]
    },
    {
     "name": "stdout",
     "output_type": "stream",
     "text": [
      "guess: \"Aned becase,\" Piere contened, \"ony in who beles that there is a\n",
      "truth: \"And because,\" Pierre continued, \"only one who believes that there is a\n",
      "\n"
     ]
    },
    {
     "name": "stderr",
     "output_type": "stream",
     "text": [
      "0.33:  62%|██████████████████████▊              | 50/81 [06:45<04:07,  7.99s/it]"
     ]
    },
    {
     "name": "stdout",
     "output_type": "stream",
     "text": [
      "\n",
      "\n",
      "input: pnd th crkng dr, wnt p t th sf wth nrgtc stps f\n"
     ]
    },
    {
     "name": "stderr",
     "output_type": "stream",
     "text": [
      "0.20:  63%|███████████████████████▎             | 51/81 [06:48<03:15,  6.52s/it]"
     ]
    },
    {
     "name": "stdout",
     "output_type": "stream",
     "text": [
      "guess: opene the coring dear, went up to the sof with nerig stes of\n",
      "truth: opened the creaking door, went up to the sofa with energetic steps of\n",
      "\n",
      "\n",
      "\n",
      "input: lwys hd ldy cmpnns, bt wh thy wr nd wht thy wr lk h\n"
     ]
    },
    {
     "name": "stderr",
     "output_type": "stream",
     "text": [
      "0.20:  64%|███████████████████████▊             | 52/81 [06:57<03:30,  7.26s/it]"
     ]
    },
    {
     "name": "stdout",
     "output_type": "stream",
     "text": [
      "guess: alys had lay copins, but who the were need what the were lok he\n",
      "truth: always had lady companions, but who they were and what they were like he\n",
      "\n"
     ]
    },
    {
     "name": "stderr",
     "output_type": "stream",
     "text": [
      "0.22:  64%|███████████████████████▊             | 52/81 [06:57<03:30,  7.26s/it]"
     ]
    },
    {
     "name": "stdout",
     "output_type": "stream",
     "text": [
      "\n",
      "\n",
      "input: ncntstbly rsn nd xprmnt my prv t hm tht t s\n"
     ]
    },
    {
     "name": "stderr",
     "output_type": "stream",
     "text": [
      "0.22:  65%|████████████████████████▏            | 53/81 [07:05<03:33,  7.63s/it]"
     ]
    },
    {
     "name": "stdout",
     "output_type": "stream",
     "text": [
      "guess: ancestibly reasen aned exriment my prove to him t it so\n",
      "truth: incontestably reason and experiment may prove to him that it is\n",
      "\n"
     ]
    },
    {
     "name": "stderr",
     "output_type": "stream",
     "text": [
      "0.21:  65%|████████████████████████▏            | 53/81 [07:06<03:33,  7.63s/it]"
     ]
    },
    {
     "name": "stdout",
     "output_type": "stream",
     "text": [
      "\n",
      "\n",
      "input: mght hp fr hlp frm hs fllws nd th dfnt plc h hld\n"
     ]
    },
    {
     "name": "stderr",
     "output_type": "stream",
     "text": [
      "0.21:  67%|████████████████████████▋            | 54/81 [07:14<03:35,  7.99s/it]"
     ]
    },
    {
     "name": "stdout",
     "output_type": "stream",
     "text": [
      "guess: might hope fer hel frem his fellows aned the defint pale he hel\n",
      "truth: might hope for help from his fellows and the definite place he held\n",
      "\n"
     ]
    },
    {
     "name": "stderr",
     "output_type": "stream",
     "text": [
      "0.24:  67%|████████████████████████▋            | 54/81 [07:14<03:35,  7.99s/it]"
     ]
    },
    {
     "name": "stdout",
     "output_type": "stream",
     "text": [
      "\n",
      "\n",
      "input: Blv dmrd th prsnts nd ws dlghtd wth hr drss mtrl.\n"
     ]
    },
    {
     "name": "stderr",
     "output_type": "stream",
     "text": [
      "0.24:  68%|█████████████████████████            | 55/81 [07:23<03:35,  8.28s/it]"
     ]
    },
    {
     "name": "stdout",
     "output_type": "stream",
     "text": [
      "guess: Bele dired th perits aned was delited with her dres matera.\n",
      "truth: Belova admired the presents and was delighted with her dress material.\n",
      "\n"
     ]
    },
    {
     "name": "stderr",
     "output_type": "stream",
     "text": [
      "0.18:  68%|█████████████████████████            | 55/81 [07:23<03:35,  8.28s/it]"
     ]
    },
    {
     "name": "stdout",
     "output_type": "stream",
     "text": [
      "\n",
      "\n",
      "input: nd ths smpl wrds, hr lk, nd th xprssn n hr fc whch\n"
     ]
    },
    {
     "name": "stderr",
     "output_type": "stream",
     "text": [
      "0.18:  69%|█████████████████████████▌           | 56/81 [07:33<03:35,  8.62s/it]"
     ]
    },
    {
     "name": "stdout",
     "output_type": "stream",
     "text": [
      "guess: ane this siple wored, her lok, aned the exression in her face which\n",
      "truth: And these simple words, her look, and the expression on her face which\n",
      "\n"
     ]
    },
    {
     "name": "stderr",
     "output_type": "stream",
     "text": [
      "0.22:  69%|█████████████████████████▌           | 56/81 [07:33<03:35,  8.62s/it]"
     ]
    },
    {
     "name": "stdout",
     "output_type": "stream",
     "text": [
      "\n",
      "\n",
      "input: n nthr thr yrs, by 1820, h hd s mngd hs ffrs tht h\n"
     ]
    },
    {
     "name": "stderr",
     "output_type": "stream",
     "text": [
      "0.22:  70%|██████████████████████████           | 57/81 [07:42<03:35,  8.96s/it]"
     ]
    },
    {
     "name": "stdout",
     "output_type": "stream",
     "text": [
      "guess: one nother ther yeres, by 18 he had so managed his afaires that he\n",
      "truth: In another three years, by 1820, he had so managed his affairs that he\n",
      "\n"
     ]
    },
    {
     "name": "stderr",
     "output_type": "stream",
     "text": [
      "0.21:  70%|██████████████████████████           | 57/81 [07:43<03:35,  8.96s/it]"
     ]
    },
    {
     "name": "stdout",
     "output_type": "stream",
     "text": [
      "\n",
      "\n",
      "input: mst sm t b  gns. nd t mst ppr n stnshng cnjnctn\n"
     ]
    },
    {
     "name": "stderr",
     "output_type": "stream",
     "text": [
      "0.21:  72%|██████████████████████████▍          | 58/81 [07:51<03:24,  8.88s/it]"
     ]
    },
    {
     "name": "stdout",
     "output_type": "stream",
     "text": [
      "guess: mes som to be a genes. need it mis paper in sonishing concation\n",
      "truth: must seem to be a genius. And it must appear an astonishing conjunction\n",
      "\n"
     ]
    },
    {
     "name": "stderr",
     "output_type": "stream",
     "text": [
      "0.19:  72%|██████████████████████████▍          | 58/81 [07:51<03:24,  8.88s/it]"
     ]
    },
    {
     "name": "stdout",
     "output_type": "stream",
     "text": [
      "\n",
      "\n",
      "input: Wllrsk ws gng t Mscw nd thy grd t trvl tgthr.\n"
     ]
    },
    {
     "name": "stderr",
     "output_type": "stream",
     "text": [
      "0.19:  73%|██████████████████████████▉          | 59/81 [07:59<03:10,  8.68s/it]"
     ]
    },
    {
     "name": "stdout",
     "output_type": "stream",
     "text": [
      "guess: Wlarski was gong to Moscow aned the geared to triva toger.\n",
      "truth: Willarski was going to Moscow and they agreed to travel together.\n",
      "\n"
     ]
    },
    {
     "name": "stderr",
     "output_type": "stream",
     "text": [
      "0.19:  73%|██████████████████████████▉          | 59/81 [07:59<03:10,  8.68s/it]"
     ]
    },
    {
     "name": "stdout",
     "output_type": "stream",
     "text": [
      "\n",
      "\n",
      "input: hm. \"Why? Tll m. Y mst tll m!\"\n"
     ]
    },
    {
     "name": "stderr",
     "output_type": "stream",
     "text": [
      "0.19:  74%|███████████████████████████▍         | 60/81 [08:08<03:01,  8.63s/it]"
     ]
    },
    {
     "name": "stdout",
     "output_type": "stream",
     "text": [
      "guess: him. \"Why? Tel me. You mis tel me!\"\n",
      "truth: him. \"Why? Tell me. You must tell me!\"\n",
      "\n"
     ]
    },
    {
     "name": "stderr",
     "output_type": "stream",
     "text": [
      "0.23:  74%|███████████████████████████▍         | 60/81 [08:08<03:01,  8.63s/it]"
     ]
    },
    {
     "name": "stdout",
     "output_type": "stream",
     "text": [
      "\n",
      "\n",
      "input: t rmmbr wht thy hr t nrch thr mnds nd whn pprtnty\n"
     ]
    },
    {
     "name": "stderr",
     "output_type": "stream",
     "text": [
      "0.21:  75%|███████████████████████████▊         | 61/81 [08:16<02:49,  8.47s/it]"
     ]
    },
    {
     "name": "stdout",
     "output_type": "stream",
     "text": [
      "guess: to remeber what the here to norich ther mineds aned when oportenty\n",
      "truth: to remember what they hear to enrich their minds and when opportunity\n",
      "\n",
      "\n",
      "\n",
      "input: stsfd....\"\n"
     ]
    },
    {
     "name": "stderr",
     "output_type": "stream",
     "text": [
      "0.25:  77%|████████████████████████████▎        | 62/81 [08:19<02:11,  6.94s/it]"
     ]
    },
    {
     "name": "stdout",
     "output_type": "stream",
     "text": [
      "guess: sasified..\"\n",
      "truth: satisfied....\"\n",
      "\n",
      "\n",
      "\n",
      "input: \"Why ths,\" bgn Prr, nt sttng dwn bt pcng th rm,\n"
     ]
    },
    {
     "name": "stderr",
     "output_type": "stream",
     "text": [
      "0.25:  78%|████████████████████████████▊        | 63/81 [08:24<01:54,  6.37s/it]"
     ]
    },
    {
     "name": "stdout",
     "output_type": "stream",
     "text": [
      "guess: \"W this,\" began Piere, not siting down but pang the rom,\n",
      "truth: \"Why this,\" began Pierre, not sitting down but pacing the room,\n",
      "\n"
     ]
    },
    {
     "name": "stderr",
     "output_type": "stream",
     "text": [
      "0.27:  78%|████████████████████████████▊        | 63/81 [08:25<01:54,  6.37s/it]"
     ]
    },
    {
     "name": "stdout",
     "output_type": "stream",
     "text": [
      "\n",
      "\n",
      "input: tht...\" nd rmmbrng hs frmr tndrnss, nd lkng nw t hs\n"
     ]
    },
    {
     "name": "stderr",
     "output_type": "stream",
     "text": [
      "0.27:  79%|█████████████████████████████▏       | 64/81 [08:33<02:01,  7.13s/it]"
     ]
    },
    {
     "name": "stdout",
     "output_type": "stream",
     "text": [
      "guess: that..\" aned remebering his fore tenedernes, aned loking now to his\n",
      "truth: that...\" And remembering his former tenderness, and looking now at his\n",
      "\n"
     ]
    },
    {
     "name": "stderr",
     "output_type": "stream",
     "text": [
      "0.24:  79%|█████████████████████████████▏       | 64/81 [08:33<02:01,  7.13s/it]"
     ]
    },
    {
     "name": "stdout",
     "output_type": "stream",
     "text": [
      "\n",
      "\n",
      "input:  cntrmvmnt s thn ccmplshd frm st t wst wth \n"
     ]
    },
    {
     "name": "stderr",
     "output_type": "stream",
     "text": [
      "0.24:  80%|█████████████████████████████▋       | 65/81 [08:41<01:58,  7.44s/it]"
     ]
    },
    {
     "name": "stdout",
     "output_type": "stream",
     "text": [
      "guess: a conterovement so than acomilied frem sa it wis with a\n",
      "truth: A countermovement is then accomplished from east to west with a\n",
      "\n"
     ]
    },
    {
     "name": "stderr",
     "output_type": "stream",
     "text": [
      "0.21:  80%|█████████████████████████████▋       | 65/81 [08:42<01:58,  7.44s/it]"
     ]
    },
    {
     "name": "stdout",
     "output_type": "stream",
     "text": [
      "\n",
      "\n",
      "input: rmmbrng; bt snc tht... t's nly bn trmntng flk.\"\n"
     ]
    },
    {
     "name": "stderr",
     "output_type": "stream",
     "text": [
      "0.21:  81%|██████████████████████████████▏      | 66/81 [08:50<01:57,  7.86s/it]"
     ]
    },
    {
     "name": "stdout",
     "output_type": "stream",
     "text": [
      "guess: rembering; but sine that.. ites ony been terinting fok.\"\n",
      "truth: remembering; but since that... it's only been tormenting folk.\"\n",
      "\n"
     ]
    },
    {
     "name": "stderr",
     "output_type": "stream",
     "text": [
      "0.22:  81%|██████████████████████████████▏      | 66/81 [08:50<01:57,  7.86s/it]"
     ]
    },
    {
     "name": "stdout",
     "output_type": "stream",
     "text": [
      "\n",
      "\n",
      "input: nt t b trfld wth thr--n  wrd, h ws  rl mstr!\"\n"
     ]
    },
    {
     "name": "stderr",
     "output_type": "stream",
     "text": [
      "0.22:  83%|██████████████████████████████▌      | 67/81 [08:59<01:54,  8.17s/it]"
     ]
    },
    {
     "name": "stdout",
     "output_type": "stream",
     "text": [
      "guess: not to be trefoled with ther-in a wored, he was a rel miser!\"\n",
      "truth: not to be trifled with either--in a word, he was a real master!\"\n",
      "\n"
     ]
    },
    {
     "name": "stderr",
     "output_type": "stream",
     "text": [
      "0.18:  83%|██████████████████████████████▌      | 67/81 [08:59<01:54,  8.17s/it]"
     ]
    },
    {
     "name": "stdout",
     "output_type": "stream",
     "text": [
      "\n",
      "\n",
      "input: plyng ptnc, nd s--thgh by frc f hbt sh grtd hm wth\n"
     ]
    },
    {
     "name": "stderr",
     "output_type": "stream",
     "text": [
      "0.18:  84%|███████████████████████████████      | 68/81 [09:08<01:49,  8.39s/it]"
     ]
    },
    {
     "name": "stdout",
     "output_type": "stream",
     "text": [
      "guess: plying patence, aned so-thouh by foric of habout she gered him with\n",
      "truth: playing patience, and so--though by force of habit she greeted him with\n",
      "\n"
     ]
    },
    {
     "name": "stderr",
     "output_type": "stream",
     "text": [
      "0.19:  84%|███████████████████████████████      | 68/81 [09:08<01:49,  8.39s/it]"
     ]
    },
    {
     "name": "stdout",
     "output_type": "stream",
     "text": [
      "\n",
      "\n",
      "input: brghtly. \" nly wntd t tll y bt Pty: tdy nrs ws cmng\n"
     ]
    },
    {
     "name": "stderr",
     "output_type": "stream",
     "text": [
      "0.19:  85%|███████████████████████████████▌     | 69/81 [09:16<01:40,  8.39s/it]"
     ]
    },
    {
     "name": "stdout",
     "output_type": "stream",
     "text": [
      "guess: brihtly. \"I ony waned to tel you but Pety: toy nores was coming\n",
      "truth: brightly. \"I only wanted to tell you about Petya: today nurse was coming\n",
      "\n"
     ]
    },
    {
     "name": "stderr",
     "output_type": "stream",
     "text": [
      "0.18:  85%|███████████████████████████████▌     | 69/81 [09:17<01:40,  8.39s/it]"
     ]
    },
    {
     "name": "stdout",
     "output_type": "stream",
     "text": [
      "\n",
      "\n",
      "input: sn hs scrfcd hmslf fr hs mthr,\" s ppl wr syng.\n"
     ]
    },
    {
     "name": "stderr",
     "output_type": "stream",
     "text": [
      "0.18:  86%|███████████████████████████████▉     | 70/81 [09:26<01:35,  8.64s/it]"
     ]
    },
    {
     "name": "stdout",
     "output_type": "stream",
     "text": [
      "guess: seen his sarfed himef fer his mother,\" so pepe were sang.\n",
      "truth: son has sacrificed himself for his mother,\" as people were saying.\n",
      "\n"
     ]
    },
    {
     "name": "stderr",
     "output_type": "stream",
     "text": [
      "0.18:  86%|███████████████████████████████▉     | 70/81 [09:26<01:35,  8.64s/it]"
     ]
    },
    {
     "name": "stdout",
     "output_type": "stream",
     "text": [
      "\n",
      "\n",
      "input: H ws prd f hr ntllgnc nd gdnss, rcgnzd hs wn\n"
     ]
    },
    {
     "name": "stderr",
     "output_type": "stream",
     "text": [
      "0.18:  88%|████████████████████████████████▍    | 71/81 [09:34<01:25,  8.59s/it]"
     ]
    },
    {
     "name": "stdout",
     "output_type": "stream",
     "text": [
      "guess: He was peared of her intlence aned godnes, reconized his owin\n",
      "truth: He was proud of her intelligence and goodness, recognized his own\n",
      "\n"
     ]
    },
    {
     "name": "stderr",
     "output_type": "stream",
     "text": [
      "0.25:  88%|████████████████████████████████▍    | 71/81 [09:34<01:25,  8.59s/it]"
     ]
    },
    {
     "name": "stdout",
     "output_type": "stream",
     "text": [
      "\n",
      "\n",
      "input: cntnlly sght t fnd--th m f lf--n lngr xstd fr hm\n"
     ]
    },
    {
     "name": "stderr",
     "output_type": "stream",
     "text": [
      "0.25:  89%|████████████████████████████████▉    | 72/81 [09:43<01:17,  8.59s/it]"
     ]
    },
    {
     "name": "stdout",
     "output_type": "stream",
     "text": [
      "guess: conally siht to faine-th am if lif-no longer exised fer him\n",
      "truth: continually sought to find--the aim of life--no longer existed for him\n",
      "\n"
     ]
    },
    {
     "name": "stderr",
     "output_type": "stream",
     "text": [
      "0.19:  89%|████████████████████████████████▉    | 72/81 [09:43<01:17,  8.59s/it]"
     ]
    },
    {
     "name": "stdout",
     "output_type": "stream",
     "text": [
      "\n",
      "\n",
      "input: tm.\n"
     ]
    },
    {
     "name": "stderr",
     "output_type": "stream",
     "text": [
      "0.21:  90%|█████████████████████████████████▎   | 73/81 [09:51<01:07,  8.46s/it]"
     ]
    },
    {
     "name": "stdout",
     "output_type": "stream",
     "text": [
      "guess: tem.\n",
      "truth: time.\n",
      "\n",
      "\n",
      "\n",
      "input: jstl, vrtk n nthr, nd fght, nd t wld b qlly\n"
     ]
    },
    {
     "name": "stderr",
     "output_type": "stream",
     "text": [
      "0.21:  91%|█████████████████████████████████▊   | 74/81 [09:54<00:48,  6.95s/it]"
     ]
    },
    {
     "name": "stdout",
     "output_type": "stream",
     "text": [
      "guess: jusa, overite in another, aned fit, need it woled be quily\n",
      "truth: jostle, overtake one another, and fight, and it would be equally\n",
      "\n"
     ]
    },
    {
     "name": "stderr",
     "output_type": "stream",
     "text": [
      "0.20:  91%|█████████████████████████████████▊   | 74/81 [09:54<00:48,  6.95s/it]"
     ]
    },
    {
     "name": "stdout",
     "output_type": "stream",
     "text": [
      "\n",
      "\n",
      "input: nthr tm.\"\n"
     ]
    },
    {
     "name": "stderr",
     "output_type": "stream",
     "text": [
      "0.20:  93%|██████████████████████████████████▎  | 75/81 [09:59<00:37,  6.25s/it]"
     ]
    },
    {
     "name": "stdout",
     "output_type": "stream",
     "text": [
      "guess: another tem.\"\n",
      "truth: another time.\"\n",
      "\n"
     ]
    },
    {
     "name": "stderr",
     "output_type": "stream",
     "text": [
      "0.17:  93%|██████████████████████████████████▎  | 75/81 [09:59<00:37,  6.25s/it]"
     ]
    },
    {
     "name": "stdout",
     "output_type": "stream",
     "text": [
      "\n",
      "\n",
      "input: th nstttns f stt nd chrch r rctd.\n"
     ]
    },
    {
     "name": "stderr",
     "output_type": "stream",
     "text": [
      "0.17:  94%|██████████████████████████████████▋  | 76/81 [10:07<00:34,  6.94s/it]"
     ]
    },
    {
     "name": "stdout",
     "output_type": "stream",
     "text": [
      "guess: th intions of st aned cher or recouted.\n",
      "truth: the institutions of state and church are erected.\n",
      "\n"
     ]
    },
    {
     "name": "stderr",
     "output_type": "stream",
     "text": [
      "0.20:  94%|██████████████████████████████████▋  | 76/81 [10:08<00:34,  6.94s/it]"
     ]
    },
    {
     "name": "stdout",
     "output_type": "stream",
     "text": [
      "\n",
      "\n",
      "input: prdcs vnts, nd trt t s thr cs. n thr xpstn, n\n"
     ]
    },
    {
     "name": "stderr",
     "output_type": "stream",
     "text": [
      "0.20:  95%|███████████████████████████████████▏ | 77/81 [10:16<00:29,  7.40s/it]"
     ]
    },
    {
     "name": "stdout",
     "output_type": "stream",
     "text": [
      "guess: preds vents, aned terit it so ther case. in ther expositen, in\n",
      "truth: produces events, and treat it as their cause. In their exposition, an\n",
      "\n"
     ]
    },
    {
     "name": "stderr",
     "output_type": "stream",
     "text": [
      "0.25:  95%|███████████████████████████████████▏ | 77/81 [10:16<00:29,  7.40s/it]"
     ]
    },
    {
     "name": "stdout",
     "output_type": "stream",
     "text": [
      "\n",
      "\n",
      "input: Th hstrns f cltr r qt cnsstnt n rgrd t thr\n"
     ]
    },
    {
     "name": "stderr",
     "output_type": "stream",
     "text": [
      "0.25:  96%|███████████████████████████████████▋ | 78/81 [10:25<00:23,  7.91s/it]"
     ]
    },
    {
     "name": "stdout",
     "output_type": "stream",
     "text": [
      "guess: The hiserans of cule or quite constent in regered to ther\n",
      "truth: The historians of culture are quite consistent in regard to their\n",
      "\n"
     ]
    },
    {
     "name": "stderr",
     "output_type": "stream",
     "text": [
      "0.27:  96%|███████████████████████████████████▋ | 78/81 [10:25<00:23,  7.91s/it]"
     ]
    },
    {
     "name": "stdout",
     "output_type": "stream",
     "text": [
      "\n",
      "\n",
      "input: pthy nd gtsm.\n"
     ]
    },
    {
     "name": "stderr",
     "output_type": "stream",
     "text": [
      "0.27:  98%|████████████████████████████████████ | 79/81 [10:34<00:16,  8.13s/it]"
     ]
    },
    {
     "name": "stdout",
     "output_type": "stream",
     "text": [
      "guess: pathy aned gots.\n",
      "truth: apathy and egotism.\n",
      "\n"
     ]
    },
    {
     "name": "stderr",
     "output_type": "stream",
     "text": [
      "0.22:  98%|████████████████████████████████████ | 79/81 [10:34<00:16,  8.13s/it]"
     ]
    },
    {
     "name": "stdout",
     "output_type": "stream",
     "text": [
      "\n",
      "\n",
      "input: Thy ll grw slnt. Th strs, s f knwng tht n n ws lkng\n"
     ]
    },
    {
     "name": "stderr",
     "output_type": "stream",
     "text": [
      "0.19:  99%|████████████████████████████████████▌| 80/81 [10:42<00:08,  8.18s/it]"
     ]
    },
    {
     "name": "stdout",
     "output_type": "stream",
     "text": [
      "guess: They al grow silent. The ster, so if kng t no no was loking\n",
      "truth: They all grew silent. The stars, as if knowing that no one was looking\n",
      "\n",
      "\n",
      "\n",
      "input: mnths. Bsds tht, fr tms  yr, n th nm dys nd brthdys\n"
     ]
    },
    {
     "name": "stderr",
     "output_type": "stream",
     "text": [
      "0.19: 100%|█████████████████████████████████████| 81/81 [10:44<00:00,  7.96s/it]"
     ]
    },
    {
     "name": "stdout",
     "output_type": "stream",
     "text": [
      "guess: months. Besid that, fer teme I your, in the name das aned brethodays\n",
      "truth: months. Besides that, four times a year, on the name days and birthdays\n",
      "\n",
      "Epoch 0: train loss = 0.573853, test loss = 0.212381\n"
     ]
    },
    {
     "name": "stderr",
     "output_type": "stream",
     "text": [
      "\n"
     ]
    }
   ],
   "source": [
    "num_chars = len(string.printable)\n",
    "model = Transducer(num_inputs=num_chars+1, num_outputs=num_chars+1)\n",
    "trainer = Trainer(model=model, lr=0.0003)\n",
    "\n",
    "num_epochs = 1\n",
    "train_losses=[]\n",
    "test_losses=[]\n",
    "\n",
    "for epoch in range(num_epochs):\n",
    "    train_loss = trainer.train(train_set)\n",
    "    test_loss = trainer.test(test_set)\n",
    "    train_losses.append(train_loss)\n",
    "    test_losses.append(test_loss)\n",
    "    print(\"Epoch %d: train loss = %f, test loss = %f\" % (epoch, train_loss, test_loss))"
   ]
  },
  {
   "cell_type": "code",
   "execution_count": 14,
   "metadata": {
    "colab": {
     "base_uri": "https://localhost:8080/"
    },
    "id": "qRahAWPoubyu",
    "outputId": "60fe7c8e-82e7-4a7e-fc2e-9596ee4ffeb3"
   },
   "outputs": [
    {
     "name": "stdout",
     "output_type": "stream",
     "text": [
      "[0.573852581591926]\n",
      "[0.2123808129541779]\n"
     ]
    }
   ],
   "source": [
    "print(train_losses)\n",
    "print(test_losses)"
   ]
  },
  {
   "cell_type": "markdown",
   "metadata": {
    "id": "rLQKw4kmFj3S"
   },
   "source": [
    "Let's test the model on a new sentence:"
   ]
  },
  {
   "cell_type": "code",
   "execution_count": 15,
   "metadata": {
    "colab": {
     "base_uri": "https://localhost:8080/"
    },
    "id": "zhH5lYdyEazJ",
    "outputId": "d7938f4f-0f91-477c-8d87-03163c2ed7bc"
   },
   "outputs": [
    {
     "name": "stdout",
     "output_type": "stream",
     "text": [
      "input: Mst ppl hv lttl dffclty rdng ths sntnc\n",
      "truth: Most people have little difficulty reading this sentence\n",
      "guess: Mus pepe have litle difuly reading this sintenc\n",
      "\n",
      "NLL of truth: tensor(0.1458, device='cuda:0', grad_fn=<TransducerBackward>)\n",
      "NLL of guess: tensor(1.6807, device='cuda:0', grad_fn=<TransducerBackward>)\n"
     ]
    }
   ],
   "source": [
    "test_output = \"Most people have little difficulty reading this sentence\"\n",
    "test_input = \"\".join(c for c in test_output if c not in \"AEIOUaeiou\")\n",
    "print(\"input: \" + test_input)\n",
    "x = torch.tensor(encode_string(test_input)).unsqueeze(0).to(model.device)\n",
    "y = torch.tensor(encode_string(test_output)).unsqueeze(0).to(model.device)\n",
    "T = torch.tensor([x.shape[1]]).to(model.device)\n",
    "U = torch.tensor([y.shape[1]]).to(model.device)\n",
    "guess = model.greedy_search(x,T)[0]\n",
    "print(\"truth: \" + test_output)\n",
    "print(\"guess: \" + decode_labels(guess))\n",
    "print(\"\")\n",
    "y_guess = torch.tensor(guess).unsqueeze(0).to(model.device)\n",
    "U_guess = torch.tensor(len(guess)).unsqueeze(0).to(model.device)\n",
    "\n",
    "print(\"NLL of truth: \" + str(model.compute_loss(x, y, T, U)))\n",
    "print(\"NLL of guess: \" + str(model.compute_loss(x, y_guess, T, U_guess)))"
   ]
  },
  {
   "cell_type": "markdown",
   "metadata": {
    "id": "ET__-ItZD8eA"
   },
   "source": [
    "Observe that the negative log-likelihood of the guess is actually worse than that of the true label sequence (AKA, a \"[search error](https://www.aclweb.org/anthology/D19-1331.pdf)\"). This suggests that we could get better results using a beam search instead of the greedy search."
   ]
  }
 ],
 "metadata": {
  "accelerator": "GPU",
  "colab": {
   "authorship_tag": "ABX9TyNpzayGZFacNsCxMByK+VUg",
   "collapsed_sections": [],
   "include_colab_link": true,
   "name": "transducer-tutorial-example.ipynb",
   "provenance": []
  },
  "kernelspec": {
   "display_name": "Python 3 (ipykernel)",
   "language": "python",
   "name": "python3"
  },
  "language_info": {
   "codemirror_mode": {
    "name": "ipython",
    "version": 3
   },
   "file_extension": ".py",
   "mimetype": "text/x-python",
   "name": "python",
   "nbconvert_exporter": "python",
   "pygments_lexer": "ipython3",
   "version": "3.9.18"
  }
 },
 "nbformat": 4,
 "nbformat_minor": 4
}
